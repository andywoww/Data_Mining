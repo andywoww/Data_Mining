{
 "cells": [
  {
   "cell_type": "markdown",
   "id": "623d5687",
   "metadata": {},
   "source": [
    "# Data Cleaning"
   ]
  },
  {
   "cell_type": "markdown",
   "id": "d202af8e",
   "metadata": {},
   "source": [
    "Today, we will be cleaning up the titanic dataset."
   ]
  },
  {
   "cell_type": "markdown",
   "id": "cef68ce1",
   "metadata": {},
   "source": [
    "## Import Library"
   ]
  },
  {
   "cell_type": "code",
   "execution_count": 1,
   "id": "9b2e4226",
   "metadata": {},
   "outputs": [],
   "source": [
    "# math\n",
    "import numpy as np \n",
    "\n",
    "# data processing\n",
    "import pandas as pd \n",
    "\n",
    "# data visualization\n",
    "import seaborn as sns\n",
    "%matplotlib inline\n",
    "from matplotlib import pyplot as plt\n",
    "from matplotlib import style\n",
    "\n",
    "# Import Warnings\n",
    "import warnings\n",
    "warnings.simplefilter(action=\"ignore\")"
   ]
  },
  {
   "cell_type": "markdown",
   "id": "a2413737",
   "metadata": {},
   "source": [
    "## Import Dataset "
   ]
  },
  {
   "cell_type": "code",
   "execution_count": 2,
   "id": "85dbe935",
   "metadata": {},
   "outputs": [
    {
     "data": {
      "text/html": [
       "<div>\n",
       "<style scoped>\n",
       "    .dataframe tbody tr th:only-of-type {\n",
       "        vertical-align: middle;\n",
       "    }\n",
       "\n",
       "    .dataframe tbody tr th {\n",
       "        vertical-align: top;\n",
       "    }\n",
       "\n",
       "    .dataframe thead th {\n",
       "        text-align: right;\n",
       "    }\n",
       "</style>\n",
       "<table border=\"1\" class=\"dataframe\">\n",
       "  <thead>\n",
       "    <tr style=\"text-align: right;\">\n",
       "      <th></th>\n",
       "      <th>PassengerId</th>\n",
       "      <th>Survived</th>\n",
       "      <th>Pclass</th>\n",
       "      <th>Name</th>\n",
       "      <th>Sex</th>\n",
       "      <th>Age</th>\n",
       "      <th>SibSp</th>\n",
       "      <th>Parch</th>\n",
       "      <th>Ticket</th>\n",
       "      <th>Fare</th>\n",
       "      <th>Cabin</th>\n",
       "      <th>Embarked</th>\n",
       "      <th>ship</th>\n",
       "    </tr>\n",
       "  </thead>\n",
       "  <tbody>\n",
       "    <tr>\n",
       "      <th>0</th>\n",
       "      <td>1</td>\n",
       "      <td>0</td>\n",
       "      <td>3.0</td>\n",
       "      <td>Braund, Mr. Owen Harris</td>\n",
       "      <td>male</td>\n",
       "      <td>22</td>\n",
       "      <td>1</td>\n",
       "      <td>0</td>\n",
       "      <td>A/5 21171</td>\n",
       "      <td>7,25</td>\n",
       "      <td>NaN</td>\n",
       "      <td>S</td>\n",
       "      <td>Titanic</td>\n",
       "    </tr>\n",
       "    <tr>\n",
       "      <th>1</th>\n",
       "      <td>2</td>\n",
       "      <td>1</td>\n",
       "      <td>1.0</td>\n",
       "      <td>Cumings, Mrs. John Bradley (Florence Briggs Th...</td>\n",
       "      <td>female</td>\n",
       "      <td>38</td>\n",
       "      <td>1</td>\n",
       "      <td>0</td>\n",
       "      <td>PC 17599</td>\n",
       "      <td>71,2833</td>\n",
       "      <td>C85</td>\n",
       "      <td>C</td>\n",
       "      <td>Titanic</td>\n",
       "    </tr>\n",
       "    <tr>\n",
       "      <th>2</th>\n",
       "      <td>3</td>\n",
       "      <td>1</td>\n",
       "      <td>3.0</td>\n",
       "      <td>Heikkinen, Miss. Laina</td>\n",
       "      <td>female</td>\n",
       "      <td>26</td>\n",
       "      <td>0</td>\n",
       "      <td>0</td>\n",
       "      <td>STON/O2. 3101282</td>\n",
       "      <td>7,925</td>\n",
       "      <td>NaN</td>\n",
       "      <td>S</td>\n",
       "      <td>Titanic</td>\n",
       "    </tr>\n",
       "  </tbody>\n",
       "</table>\n",
       "</div>"
      ],
      "text/plain": [
       "   PassengerId  Survived  Pclass  \\\n",
       "0            1         0     3.0   \n",
       "1            2         1     1.0   \n",
       "2            3         1     3.0   \n",
       "\n",
       "                                                Name     Sex Age  SibSp Parch  \\\n",
       "0                            Braund, Mr. Owen Harris    male  22      1     0   \n",
       "1  Cumings, Mrs. John Bradley (Florence Briggs Th...  female  38      1     0   \n",
       "2                             Heikkinen, Miss. Laina  female  26      0     0   \n",
       "\n",
       "             Ticket     Fare Cabin Embarked     ship  \n",
       "0         A/5 21171     7,25   NaN        S  Titanic  \n",
       "1          PC 17599  71,2833   C85        C  Titanic  \n",
       "2  STON/O2. 3101282    7,925   NaN        S  Titanic  "
      ]
     },
     "execution_count": 2,
     "metadata": {},
     "output_type": "execute_result"
    }
   ],
   "source": [
    "df = pd.read_csv(\"titanic.tsv\", sep='\\t')\n",
    "df.head(3)"
   ]
  },
  {
   "cell_type": "code",
   "execution_count": 3,
   "id": "594cc5bb",
   "metadata": {
    "scrolled": true
   },
   "outputs": [
    {
     "name": "stdout",
     "output_type": "stream",
     "text": [
      "<class 'pandas.core.frame.DataFrame'>\n",
      "RangeIndex: 894 entries, 0 to 893\n",
      "Data columns (total 13 columns):\n",
      " #   Column       Non-Null Count  Dtype  \n",
      "---  ------       --------------  -----  \n",
      " 0   PassengerId  894 non-null    int64  \n",
      " 1   Survived     894 non-null    int64  \n",
      " 2   Pclass       894 non-null    float64\n",
      " 3   Name         894 non-null    object \n",
      " 4   Sex          894 non-null    object \n",
      " 5   Age          721 non-null    object \n",
      " 6   SibSp        894 non-null    int64  \n",
      " 7   Parch        894 non-null    object \n",
      " 8   Ticket       893 non-null    object \n",
      " 9   Fare         893 non-null    object \n",
      " 10  Cabin        208 non-null    object \n",
      " 11  Embarked     892 non-null    object \n",
      " 12  ship         894 non-null    object \n",
      "dtypes: float64(1), int64(3), object(9)\n",
      "memory usage: 90.9+ KB\n"
     ]
    }
   ],
   "source": [
    "# Checking data types\n",
    "df.info()"
   ]
  },
  {
   "cell_type": "markdown",
   "id": "460430d5",
   "metadata": {},
   "source": [
    "As we can see above, several columns do not match the data content. Among them, the Pclass, age, Parch, and Fare columns are of object data type, while the data is numeric. So, we can change it into numeric data types."
   ]
  },
  {
   "cell_type": "code",
   "execution_count": 4,
   "id": "cb69a2f0",
   "metadata": {},
   "outputs": [
    {
     "data": {
      "text/plain": [
       "PassengerId      int64\n",
       "Survived         int64\n",
       "Pclass         float64\n",
       "Name            object\n",
       "Sex             object\n",
       "Age            float64\n",
       "SibSp            int64\n",
       "Parch          float64\n",
       "Ticket          object\n",
       "Fare           float64\n",
       "Cabin           object\n",
       "Embarked        object\n",
       "ship            object\n",
       "dtype: object"
      ]
     },
     "execution_count": 4,
     "metadata": {},
     "output_type": "execute_result"
    }
   ],
   "source": [
    "# Age Column\n",
    "df['Age'] = pd.to_numeric(df.Age, errors='coerce')\n",
    "\n",
    "# Parch column\n",
    "df['Parch'] = pd.to_numeric(df.Parch, errors='coerce')\n",
    "\n",
    "# Fare Column\n",
    "df['Fare'] = df['Fare'].str.replace(',','.')\n",
    "df['Fare'] = pd.to_numeric(df.Fare, errors='coerce')\n",
    "\n",
    "\n",
    "\n",
    "\n",
    "# Checking data types\n",
    "df.dtypes"
   ]
  },
  {
   "cell_type": "markdown",
   "id": "086c1bb2",
   "metadata": {},
   "source": [
    "Now the table contents and data types are synchronized."
   ]
  },
  {
   "cell_type": "markdown",
   "id": "d589b884",
   "metadata": {},
   "source": [
    "### Checking Duplicates Dataset"
   ]
  },
  {
   "cell_type": "code",
   "execution_count": 5,
   "id": "1d366fd2",
   "metadata": {},
   "outputs": [
    {
     "data": {
      "text/plain": [
       "4"
      ]
     },
     "execution_count": 5,
     "metadata": {},
     "output_type": "execute_result"
    }
   ],
   "source": [
    "df['PassengerId'].duplicated().sum()"
   ]
  },
  {
   "cell_type": "code",
   "execution_count": 6,
   "id": "8fec293c",
   "metadata": {
    "scrolled": true
   },
   "outputs": [
    {
     "data": {
      "text/html": [
       "<div>\n",
       "<style scoped>\n",
       "    .dataframe tbody tr th:only-of-type {\n",
       "        vertical-align: middle;\n",
       "    }\n",
       "\n",
       "    .dataframe tbody tr th {\n",
       "        vertical-align: top;\n",
       "    }\n",
       "\n",
       "    .dataframe thead th {\n",
       "        text-align: right;\n",
       "    }\n",
       "</style>\n",
       "<table border=\"1\" class=\"dataframe\">\n",
       "  <thead>\n",
       "    <tr style=\"text-align: right;\">\n",
       "      <th></th>\n",
       "      <th>PassengerId</th>\n",
       "      <th>Survived</th>\n",
       "      <th>Pclass</th>\n",
       "      <th>Name</th>\n",
       "      <th>Sex</th>\n",
       "      <th>Age</th>\n",
       "      <th>SibSp</th>\n",
       "      <th>Parch</th>\n",
       "      <th>Ticket</th>\n",
       "      <th>Fare</th>\n",
       "      <th>Cabin</th>\n",
       "      <th>Embarked</th>\n",
       "      <th>ship</th>\n",
       "    </tr>\n",
       "  </thead>\n",
       "  <tbody>\n",
       "    <tr>\n",
       "      <th>13</th>\n",
       "      <td>11</td>\n",
       "      <td>1</td>\n",
       "      <td>3.0</td>\n",
       "      <td>Sandstrom, Miss. Marguerite Ru&amp;5$$</td>\n",
       "      <td>female</td>\n",
       "      <td>4.0</td>\n",
       "      <td>1</td>\n",
       "      <td>1.0</td>\n",
       "      <td>PP 9549</td>\n",
       "      <td>16.7</td>\n",
       "      <td>G6</td>\n",
       "      <td>S</td>\n",
       "      <td>Titanic</td>\n",
       "    </tr>\n",
       "    <tr>\n",
       "      <th>23</th>\n",
       "      <td>11</td>\n",
       "      <td>1</td>\n",
       "      <td>3.0</td>\n",
       "      <td>Sandstrom, Miss. Marguerite Ru&amp;5$$</td>\n",
       "      <td>female</td>\n",
       "      <td>4.0</td>\n",
       "      <td>1</td>\n",
       "      <td>1.0</td>\n",
       "      <td>PP 9549</td>\n",
       "      <td>16.7</td>\n",
       "      <td>G6</td>\n",
       "      <td>S</td>\n",
       "      <td>Titanic</td>\n",
       "    </tr>\n",
       "    <tr>\n",
       "      <th>520</th>\n",
       "      <td>225</td>\n",
       "      <td>1</td>\n",
       "      <td>1.0</td>\n",
       "      <td>Hoyt, Mr. Frederick Maxfield</td>\n",
       "      <td>male</td>\n",
       "      <td>38.0</td>\n",
       "      <td>1</td>\n",
       "      <td>0.0</td>\n",
       "      <td>19943</td>\n",
       "      <td>90.0</td>\n",
       "      <td>C93</td>\n",
       "      <td>S</td>\n",
       "      <td>Titanic</td>\n",
       "    </tr>\n",
       "    <tr>\n",
       "      <th>678</th>\n",
       "      <td>225</td>\n",
       "      <td>1</td>\n",
       "      <td>1.0</td>\n",
       "      <td>Hoytt, Mr. Frederick Maxfield</td>\n",
       "      <td>male</td>\n",
       "      <td>38.0</td>\n",
       "      <td>1</td>\n",
       "      <td>0.0</td>\n",
       "      <td>19943</td>\n",
       "      <td>90.0</td>\n",
       "      <td>C93</td>\n",
       "      <td>S</td>\n",
       "      <td>Titanic</td>\n",
       "    </tr>\n",
       "  </tbody>\n",
       "</table>\n",
       "</div>"
      ],
      "text/plain": [
       "     PassengerId  Survived  Pclass                                Name  \\\n",
       "13            11         1     3.0  Sandstrom, Miss. Marguerite Ru&5$$   \n",
       "23            11         1     3.0  Sandstrom, Miss. Marguerite Ru&5$$   \n",
       "520          225         1     1.0        Hoyt, Mr. Frederick Maxfield   \n",
       "678          225         1     1.0       Hoytt, Mr. Frederick Maxfield   \n",
       "\n",
       "        Sex   Age  SibSp  Parch   Ticket  Fare Cabin Embarked     ship  \n",
       "13   female   4.0      1    1.0  PP 9549  16.7    G6        S  Titanic  \n",
       "23   female   4.0      1    1.0  PP 9549  16.7    G6        S  Titanic  \n",
       "520    male  38.0      1    0.0    19943  90.0   C93        S  Titanic  \n",
       "678    male  38.0      1    0.0    19943  90.0   C93        S  Titanic  "
      ]
     },
     "execution_count": 6,
     "metadata": {},
     "output_type": "execute_result"
    }
   ],
   "source": [
    "df[df['PassengerId'].duplicated()]"
   ]
  },
  {
   "cell_type": "code",
   "execution_count": 7,
   "id": "36697ef0",
   "metadata": {},
   "outputs": [],
   "source": [
    "df_titanic = df.drop_duplicates(subset=['PassengerId'])"
   ]
  },
  {
   "cell_type": "code",
   "execution_count": 8,
   "id": "39deb823",
   "metadata": {},
   "outputs": [
    {
     "data": {
      "text/plain": [
       "0"
      ]
     },
     "execution_count": 8,
     "metadata": {},
     "output_type": "execute_result"
    }
   ],
   "source": [
    "df_titanic['PassengerId'].duplicated().sum()"
   ]
  },
  {
   "cell_type": "code",
   "execution_count": 9,
   "id": "fa07d770",
   "metadata": {},
   "outputs": [
    {
     "data": {
      "text/html": [
       "<div>\n",
       "<style scoped>\n",
       "    .dataframe tbody tr th:only-of-type {\n",
       "        vertical-align: middle;\n",
       "    }\n",
       "\n",
       "    .dataframe tbody tr th {\n",
       "        vertical-align: top;\n",
       "    }\n",
       "\n",
       "    .dataframe thead th {\n",
       "        text-align: right;\n",
       "    }\n",
       "</style>\n",
       "<table border=\"1\" class=\"dataframe\">\n",
       "  <thead>\n",
       "    <tr style=\"text-align: right;\">\n",
       "      <th></th>\n",
       "      <th>PassengerId</th>\n",
       "      <th>Survived</th>\n",
       "      <th>Pclass</th>\n",
       "      <th>Name</th>\n",
       "      <th>Sex</th>\n",
       "      <th>Age</th>\n",
       "      <th>SibSp</th>\n",
       "      <th>Parch</th>\n",
       "      <th>Ticket</th>\n",
       "      <th>Fare</th>\n",
       "      <th>Cabin</th>\n",
       "      <th>Embarked</th>\n",
       "      <th>ship</th>\n",
       "    </tr>\n",
       "  </thead>\n",
       "  <tbody>\n",
       "    <tr>\n",
       "      <th>0</th>\n",
       "      <td>1</td>\n",
       "      <td>0</td>\n",
       "      <td>3.0</td>\n",
       "      <td>Braund, Mr. Owen Harris</td>\n",
       "      <td>male</td>\n",
       "      <td>22.0</td>\n",
       "      <td>1</td>\n",
       "      <td>0.0</td>\n",
       "      <td>A/5 21171</td>\n",
       "      <td>7.2500</td>\n",
       "      <td>NaN</td>\n",
       "      <td>S</td>\n",
       "      <td>Titanic</td>\n",
       "    </tr>\n",
       "    <tr>\n",
       "      <th>1</th>\n",
       "      <td>2</td>\n",
       "      <td>1</td>\n",
       "      <td>1.0</td>\n",
       "      <td>Cumings, Mrs. John Bradley (Florence Briggs Th...</td>\n",
       "      <td>female</td>\n",
       "      <td>38.0</td>\n",
       "      <td>1</td>\n",
       "      <td>0.0</td>\n",
       "      <td>PC 17599</td>\n",
       "      <td>71.2833</td>\n",
       "      <td>C85</td>\n",
       "      <td>C</td>\n",
       "      <td>Titanic</td>\n",
       "    </tr>\n",
       "    <tr>\n",
       "      <th>2</th>\n",
       "      <td>3</td>\n",
       "      <td>1</td>\n",
       "      <td>3.0</td>\n",
       "      <td>Heikkinen, Miss. Laina</td>\n",
       "      <td>female</td>\n",
       "      <td>26.0</td>\n",
       "      <td>0</td>\n",
       "      <td>0.0</td>\n",
       "      <td>STON/O2. 3101282</td>\n",
       "      <td>7.9250</td>\n",
       "      <td>NaN</td>\n",
       "      <td>S</td>\n",
       "      <td>Titanic</td>\n",
       "    </tr>\n",
       "  </tbody>\n",
       "</table>\n",
       "</div>"
      ],
      "text/plain": [
       "   PassengerId  Survived  Pclass  \\\n",
       "0            1         0     3.0   \n",
       "1            2         1     1.0   \n",
       "2            3         1     3.0   \n",
       "\n",
       "                                                Name     Sex   Age  SibSp  \\\n",
       "0                            Braund, Mr. Owen Harris    male  22.0      1   \n",
       "1  Cumings, Mrs. John Bradley (Florence Briggs Th...  female  38.0      1   \n",
       "2                             Heikkinen, Miss. Laina  female  26.0      0   \n",
       "\n",
       "   Parch            Ticket     Fare Cabin Embarked     ship  \n",
       "0    0.0         A/5 21171   7.2500   NaN        S  Titanic  \n",
       "1    0.0          PC 17599  71.2833   C85        C  Titanic  \n",
       "2    0.0  STON/O2. 3101282   7.9250   NaN        S  Titanic  "
      ]
     },
     "execution_count": 9,
     "metadata": {},
     "output_type": "execute_result"
    }
   ],
   "source": [
    "df.head(3)"
   ]
  },
  {
   "cell_type": "markdown",
   "id": "0101c9ad",
   "metadata": {},
   "source": [
    "## Analysis"
   ]
  },
  {
   "cell_type": "code",
   "execution_count": 10,
   "id": "a0d84a67",
   "metadata": {},
   "outputs": [
    {
     "data": {
      "text/html": [
       "<div>\n",
       "<style scoped>\n",
       "    .dataframe tbody tr th:only-of-type {\n",
       "        vertical-align: middle;\n",
       "    }\n",
       "\n",
       "    .dataframe tbody tr th {\n",
       "        vertical-align: top;\n",
       "    }\n",
       "\n",
       "    .dataframe thead th {\n",
       "        text-align: right;\n",
       "    }\n",
       "</style>\n",
       "<table border=\"1\" class=\"dataframe\">\n",
       "  <thead>\n",
       "    <tr style=\"text-align: right;\">\n",
       "      <th></th>\n",
       "      <th>PassengerId</th>\n",
       "      <th>Survived</th>\n",
       "      <th>Pclass</th>\n",
       "      <th>Age</th>\n",
       "      <th>SibSp</th>\n",
       "      <th>Parch</th>\n",
       "      <th>Fare</th>\n",
       "    </tr>\n",
       "  </thead>\n",
       "  <tbody>\n",
       "    <tr>\n",
       "      <th>count</th>\n",
       "      <td>894.000000</td>\n",
       "      <td>894.000000</td>\n",
       "      <td>894.000000</td>\n",
       "      <td>696.000000</td>\n",
       "      <td>894.000000</td>\n",
       "      <td>893.000000</td>\n",
       "      <td>892.000000</td>\n",
       "    </tr>\n",
       "    <tr>\n",
       "      <th>mean</th>\n",
       "      <td>446.030201</td>\n",
       "      <td>0.381432</td>\n",
       "      <td>2.305369</td>\n",
       "      <td>36.203448</td>\n",
       "      <td>0.604027</td>\n",
       "      <td>0.371781</td>\n",
       "      <td>32.075985</td>\n",
       "    </tr>\n",
       "    <tr>\n",
       "      <th>std</th>\n",
       "      <td>259.208003</td>\n",
       "      <td>0.508529</td>\n",
       "      <td>0.847653</td>\n",
       "      <td>167.817961</td>\n",
       "      <td>2.571231</td>\n",
       "      <td>0.768325</td>\n",
       "      <td>49.868844</td>\n",
       "    </tr>\n",
       "    <tr>\n",
       "      <th>min</th>\n",
       "      <td>-12.000000</td>\n",
       "      <td>-4.000000</td>\n",
       "      <td>-2.000000</td>\n",
       "      <td>-12.000000</td>\n",
       "      <td>0.000000</td>\n",
       "      <td>0.000000</td>\n",
       "      <td>-90.000000</td>\n",
       "    </tr>\n",
       "    <tr>\n",
       "      <th>25%</th>\n",
       "      <td>223.250000</td>\n",
       "      <td>0.000000</td>\n",
       "      <td>2.000000</td>\n",
       "      <td>20.000000</td>\n",
       "      <td>0.000000</td>\n",
       "      <td>0.000000</td>\n",
       "      <td>7.895800</td>\n",
       "    </tr>\n",
       "    <tr>\n",
       "      <th>50%</th>\n",
       "      <td>444.500000</td>\n",
       "      <td>0.000000</td>\n",
       "      <td>3.000000</td>\n",
       "      <td>28.000000</td>\n",
       "      <td>0.000000</td>\n",
       "      <td>0.000000</td>\n",
       "      <td>14.454200</td>\n",
       "    </tr>\n",
       "    <tr>\n",
       "      <th>75%</th>\n",
       "      <td>668.750000</td>\n",
       "      <td>1.000000</td>\n",
       "      <td>3.000000</td>\n",
       "      <td>38.000000</td>\n",
       "      <td>1.000000</td>\n",
       "      <td>0.000000</td>\n",
       "      <td>30.771850</td>\n",
       "    </tr>\n",
       "    <tr>\n",
       "      <th>max</th>\n",
       "      <td>1143.000000</td>\n",
       "      <td>1.000000</td>\n",
       "      <td>3.000000</td>\n",
       "      <td>4435.000000</td>\n",
       "      <td>70.000000</td>\n",
       "      <td>5.000000</td>\n",
       "      <td>512.329200</td>\n",
       "    </tr>\n",
       "  </tbody>\n",
       "</table>\n",
       "</div>"
      ],
      "text/plain": [
       "       PassengerId    Survived      Pclass          Age       SibSp  \\\n",
       "count   894.000000  894.000000  894.000000   696.000000  894.000000   \n",
       "mean    446.030201    0.381432    2.305369    36.203448    0.604027   \n",
       "std     259.208003    0.508529    0.847653   167.817961    2.571231   \n",
       "min     -12.000000   -4.000000   -2.000000   -12.000000    0.000000   \n",
       "25%     223.250000    0.000000    2.000000    20.000000    0.000000   \n",
       "50%     444.500000    0.000000    3.000000    28.000000    0.000000   \n",
       "75%     668.750000    1.000000    3.000000    38.000000    1.000000   \n",
       "max    1143.000000    1.000000    3.000000  4435.000000   70.000000   \n",
       "\n",
       "            Parch        Fare  \n",
       "count  893.000000  892.000000  \n",
       "mean     0.371781   32.075985  \n",
       "std      0.768325   49.868844  \n",
       "min      0.000000  -90.000000  \n",
       "25%      0.000000    7.895800  \n",
       "50%      0.000000   14.454200  \n",
       "75%      0.000000   30.771850  \n",
       "max      5.000000  512.329200  "
      ]
     },
     "execution_count": 10,
     "metadata": {},
     "output_type": "execute_result"
    }
   ],
   "source": [
    "df.describe()"
   ]
  },
  {
   "cell_type": "markdown",
   "id": "e8955c0e",
   "metadata": {},
   "source": [
    "## Checking Dataset Problem"
   ]
  },
  {
   "cell_type": "code",
   "execution_count": 11,
   "id": "dad0f6ab",
   "metadata": {},
   "outputs": [
    {
     "name": "stdout",
     "output_type": "stream",
     "text": [
      "The Dataset : \n"
     ]
    },
    {
     "data": {
      "text/html": [
       "<div>\n",
       "<style scoped>\n",
       "    .dataframe tbody tr th:only-of-type {\n",
       "        vertical-align: middle;\n",
       "    }\n",
       "\n",
       "    .dataframe tbody tr th {\n",
       "        vertical-align: top;\n",
       "    }\n",
       "\n",
       "    .dataframe thead th {\n",
       "        text-align: right;\n",
       "    }\n",
       "</style>\n",
       "<table border=\"1\" class=\"dataframe\">\n",
       "  <thead>\n",
       "    <tr style=\"text-align: right;\">\n",
       "      <th></th>\n",
       "      <th>PassengerId</th>\n",
       "      <th>Survived</th>\n",
       "      <th>Pclass</th>\n",
       "      <th>Name</th>\n",
       "      <th>Sex</th>\n",
       "      <th>Age</th>\n",
       "      <th>SibSp</th>\n",
       "      <th>Parch</th>\n",
       "      <th>Ticket</th>\n",
       "      <th>Fare</th>\n",
       "      <th>Cabin</th>\n",
       "      <th>Embarked</th>\n",
       "      <th>ship</th>\n",
       "    </tr>\n",
       "  </thead>\n",
       "  <tbody>\n",
       "    <tr>\n",
       "      <th>889</th>\n",
       "      <td>890</td>\n",
       "      <td>1</td>\n",
       "      <td>1.0</td>\n",
       "      <td>Behr, Mr. Karl Howell</td>\n",
       "      <td>male</td>\n",
       "      <td>26.0</td>\n",
       "      <td>0</td>\n",
       "      <td>0.0</td>\n",
       "      <td>111369</td>\n",
       "      <td>30.0000</td>\n",
       "      <td>C148</td>\n",
       "      <td>C</td>\n",
       "      <td>Titanic</td>\n",
       "    </tr>\n",
       "    <tr>\n",
       "      <th>890</th>\n",
       "      <td>891</td>\n",
       "      <td>0</td>\n",
       "      <td>3.0</td>\n",
       "      <td>Dooley, Mr. Patrick</td>\n",
       "      <td>male</td>\n",
       "      <td>32.0</td>\n",
       "      <td>0</td>\n",
       "      <td>0.0</td>\n",
       "      <td>370376</td>\n",
       "      <td>7.7500</td>\n",
       "      <td>NaN</td>\n",
       "      <td>Q</td>\n",
       "      <td>Titanic</td>\n",
       "    </tr>\n",
       "    <tr>\n",
       "      <th>891</th>\n",
       "      <td>1000</td>\n",
       "      <td>1</td>\n",
       "      <td>1.0</td>\n",
       "      <td>Mr. Frederick Maxfield Hoyt</td>\n",
       "      <td>male</td>\n",
       "      <td>38.0</td>\n",
       "      <td>1</td>\n",
       "      <td>0.0</td>\n",
       "      <td>19943</td>\n",
       "      <td>90.0000</td>\n",
       "      <td>C93</td>\n",
       "      <td>S</td>\n",
       "      <td>Titanic</td>\n",
       "    </tr>\n",
       "    <tr>\n",
       "      <th>892</th>\n",
       "      <td>1143</td>\n",
       "      <td>1</td>\n",
       "      <td>3.0</td>\n",
       "      <td>Sandstrom, Miss. Marguerite Ru&amp;5$$</td>\n",
       "      <td>female</td>\n",
       "      <td>4.0</td>\n",
       "      <td>1</td>\n",
       "      <td>1.0</td>\n",
       "      <td>PP 9549</td>\n",
       "      <td>16.7000</td>\n",
       "      <td>G6</td>\n",
       "      <td>S</td>\n",
       "      <td>Titanic</td>\n",
       "    </tr>\n",
       "    <tr>\n",
       "      <th>893</th>\n",
       "      <td>-12</td>\n",
       "      <td>0</td>\n",
       "      <td>3.0</td>\n",
       "      <td>Vestrom, Miss. Hulda Amanda Adolfina</td>\n",
       "      <td>female</td>\n",
       "      <td>0.7</td>\n",
       "      <td>0</td>\n",
       "      <td>0.0</td>\n",
       "      <td>350406</td>\n",
       "      <td>7.8542</td>\n",
       "      <td>NaN</td>\n",
       "      <td>S</td>\n",
       "      <td>Titanic</td>\n",
       "    </tr>\n",
       "  </tbody>\n",
       "</table>\n",
       "</div>"
      ],
      "text/plain": [
       "     PassengerId  Survived  Pclass                                  Name  \\\n",
       "889          890         1     1.0                 Behr, Mr. Karl Howell   \n",
       "890          891         0     3.0                   Dooley, Mr. Patrick   \n",
       "891         1000         1     1.0           Mr. Frederick Maxfield Hoyt   \n",
       "892         1143         1     3.0    Sandstrom, Miss. Marguerite Ru&5$$   \n",
       "893          -12         0     3.0  Vestrom, Miss. Hulda Amanda Adolfina   \n",
       "\n",
       "        Sex   Age  SibSp  Parch   Ticket     Fare Cabin Embarked     ship  \n",
       "889    male  26.0      0    0.0   111369  30.0000  C148        C  Titanic  \n",
       "890    male  32.0      0    0.0   370376   7.7500   NaN        Q  Titanic  \n",
       "891    male  38.0      1    0.0    19943  90.0000   C93        S  Titanic  \n",
       "892  female   4.0      1    1.0  PP 9549  16.7000    G6        S  Titanic  \n",
       "893  female   0.7      0    0.0   350406   7.8542   NaN        S  Titanic  "
      ]
     },
     "execution_count": 11,
     "metadata": {},
     "output_type": "execute_result"
    }
   ],
   "source": [
    "print(\"The Dataset : \")\n",
    "df.tail()"
   ]
  },
  {
   "cell_type": "markdown",
   "id": "8eb42dd5",
   "metadata": {},
   "source": [
    "### Column Name"
   ]
  },
  {
   "cell_type": "markdown",
   "id": "c10d18f8",
   "metadata": {},
   "source": [
    "We can see the ship has a small latter, so we change it into capital to make easy in other steps."
   ]
  },
  {
   "cell_type": "code",
   "execution_count": 12,
   "id": "e3df7aae",
   "metadata": {
    "scrolled": false
   },
   "outputs": [
    {
     "data": {
      "text/plain": [
       "PassengerId      int64\n",
       "Survived         int64\n",
       "Pclass         float64\n",
       "Name            object\n",
       "Sex             object\n",
       "Age            float64\n",
       "SibSp            int64\n",
       "Parch          float64\n",
       "Ticket          object\n",
       "Fare           float64\n",
       "Cabin           object\n",
       "Embarked        object\n",
       "Ship            object\n",
       "dtype: object"
      ]
     },
     "execution_count": 12,
     "metadata": {},
     "output_type": "execute_result"
    }
   ],
   "source": [
    "df.rename(columns = {'ship':'Ship'}, inplace = True)\n",
    "df.dtypes"
   ]
  },
  {
   "cell_type": "markdown",
   "id": "39666154",
   "metadata": {},
   "source": [
    "Looks better. Now, let's into another problem."
   ]
  },
  {
   "cell_type": "markdown",
   "id": "8b53c7d4",
   "metadata": {},
   "source": [
    "### Data Duplicated"
   ]
  },
  {
   "cell_type": "code",
   "execution_count": 13,
   "id": "3ab597bd",
   "metadata": {
    "scrolled": true
   },
   "outputs": [
    {
     "name": "stdout",
     "output_type": "stream",
     "text": [
      "     PassengerId  Survived  Pclass                                Name  \\\n",
      "13            11         1     3.0  Sandstrom, Miss. Marguerite Ru&5$$   \n",
      "23            11         1     3.0  Sandstrom, Miss. Marguerite Ru&5$$   \n",
      "520          225         1     1.0        Hoyt, Mr. Frederick Maxfield   \n",
      "\n",
      "        Sex   Age  SibSp  Parch   Ticket  Fare Cabin Embarked     Ship  \n",
      "13   female   4.0      1    1.0  PP 9549  16.7    G6        S  Titanic  \n",
      "23   female   4.0      1    1.0  PP 9549  16.7    G6        S  Titanic  \n",
      "520    male  38.0      1    0.0    19943  90.0   C93        S  Titanic  \n"
     ]
    }
   ],
   "source": [
    "duplicateRows = df[df.duplicated()]\n",
    "print(duplicateRows)"
   ]
  },
  {
   "cell_type": "code",
   "execution_count": 14,
   "id": "12115d2d",
   "metadata": {
    "scrolled": true
   },
   "outputs": [
    {
     "name": "stdout",
     "output_type": "stream",
     "text": [
      "     PassengerId  Survived  Pclass  \\\n",
      "0              1         0     3.0   \n",
      "1              2         1     1.0   \n",
      "2              3         1     3.0   \n",
      "3              4         1     1.0   \n",
      "4              5         0     3.0   \n",
      "..           ...       ...     ...   \n",
      "889          890         1     1.0   \n",
      "890          891         0     3.0   \n",
      "891         1000         1     1.0   \n",
      "892         1143         1     3.0   \n",
      "893          -12         0     3.0   \n",
      "\n",
      "                                                  Name     Sex   Age  SibSp  \\\n",
      "0                              Braund, Mr. Owen Harris    male  22.0      1   \n",
      "1    Cumings, Mrs. John Bradley (Florence Briggs Th...  female  38.0      1   \n",
      "2                               Heikkinen, Miss. Laina  female  26.0      0   \n",
      "3         Futrelle, Mrs. Jacques Heath (Lily May Peel)  female  35.0      1   \n",
      "4                             Allen, Mr. William Henry    male  35.0      0   \n",
      "..                                                 ...     ...   ...    ...   \n",
      "889                              Behr, Mr. Karl Howell    male  26.0      0   \n",
      "890                                Dooley, Mr. Patrick    male  32.0      0   \n",
      "891                        Mr. Frederick Maxfield Hoyt    male  38.0      1   \n",
      "892                 Sandstrom, Miss. Marguerite Ru&5$$  female   4.0      1   \n",
      "893               Vestrom, Miss. Hulda Amanda Adolfina  female   0.7      0   \n",
      "\n",
      "     Parch            Ticket     Fare Cabin Embarked     Ship  \n",
      "0      0.0         A/5 21171   7.2500   NaN        S  Titanic  \n",
      "1      0.0          PC 17599  71.2833   C85        C  Titanic  \n",
      "2      0.0  STON/O2. 3101282   7.9250   NaN        S  Titanic  \n",
      "3      0.0            113803  53.1000  C123        S  Titanic  \n",
      "4      0.0            373450   8.0500   NaN        S  Titanic  \n",
      "..     ...               ...      ...   ...      ...      ...  \n",
      "889    0.0            111369  30.0000  C148        C  Titanic  \n",
      "890    0.0            370376   7.7500   NaN        Q  Titanic  \n",
      "891    0.0             19943  90.0000   C93        S  Titanic  \n",
      "892    1.0           PP 9549  16.7000    G6        S  Titanic  \n",
      "893    0.0            350406   7.8542   NaN        S  Titanic  \n",
      "\n",
      "[891 rows x 13 columns]\n"
     ]
    }
   ],
   "source": [
    "#Using Dataframe.drop_duplicates() to keep first duplicate row\n",
    "\n",
    "df2 = df.drop_duplicates(keep='first')\n",
    "print(df2)"
   ]
  },
  {
   "cell_type": "markdown",
   "id": "d8d20860",
   "metadata": {},
   "source": [
    "### Missing Values"
   ]
  },
  {
   "cell_type": "markdown",
   "id": "d9e36eaf",
   "metadata": {},
   "source": [
    "#### Checking the amount of missing data."
   ]
  },
  {
   "cell_type": "code",
   "execution_count": 15,
   "id": "45d86c6b",
   "metadata": {},
   "outputs": [
    {
     "data": {
      "text/plain": [
       "PassengerId      0\n",
       "Survived         0\n",
       "Pclass           0\n",
       "Name             0\n",
       "Sex              0\n",
       "Age            198\n",
       "SibSp            0\n",
       "Parch            1\n",
       "Ticket           1\n",
       "Fare             2\n",
       "Cabin          686\n",
       "Embarked         2\n",
       "Ship             0\n",
       "dtype: int64"
      ]
     },
     "execution_count": 15,
     "metadata": {},
     "output_type": "execute_result"
    }
   ],
   "source": [
    "df2.isnull().sum()"
   ]
  },
  {
   "cell_type": "markdown",
   "id": "53e7a7ba",
   "metadata": {},
   "source": [
    "As we can see, there are some missing values. This will be a problem in itself because there are many of them. We will solve this problem with various techniques."
   ]
  },
  {
   "cell_type": "markdown",
   "id": "606fad26",
   "metadata": {},
   "source": [
    "##### Age Column"
   ]
  },
  {
   "cell_type": "markdown",
   "id": "6c325cbf",
   "metadata": {},
   "source": [
    "In the age table, we will use the median age available in the dataset to fill in the missing values in the age column. This is because the data in the age column can be used for finding the average of the ship's passenger group."
   ]
  },
  {
   "cell_type": "code",
   "execution_count": 16,
   "id": "32a915eb",
   "metadata": {},
   "outputs": [
    {
     "name": "stdout",
     "output_type": "stream",
     "text": [
      "Missing value of the age column solved\n",
      "----------------------------------------------------------------------------------------------------\n",
      "Checking another missing value :\n"
     ]
    },
    {
     "data": {
      "text/plain": [
       "PassengerId      0\n",
       "Survived         0\n",
       "Pclass           0\n",
       "Name             0\n",
       "Sex              0\n",
       "Age              0\n",
       "SibSp            0\n",
       "Parch            1\n",
       "Ticket           1\n",
       "Fare             2\n",
       "Cabin          686\n",
       "Embarked         2\n",
       "Ship             0\n",
       "dtype: int64"
      ]
     },
     "execution_count": 16,
     "metadata": {},
     "output_type": "execute_result"
    }
   ],
   "source": [
    "df2['Age'] = df2['Age'].fillna(df2['Age'].median()).astype(int)\n",
    "print(\"Missing value of the age column solved\")\n",
    "print(\"-\" * 100)\n",
    "\n",
    "# Checking another missing value\n",
    "print(\"Checking another missing value :\")\n",
    "df2.isnull().sum()"
   ]
  },
  {
   "cell_type": "markdown",
   "id": "1f014756",
   "metadata": {},
   "source": [
    "#### Parch Column"
   ]
  },
  {
   "cell_type": "markdown",
   "id": "a7e40383",
   "metadata": {},
   "source": [
    "In this table, we use the mean value to fill in the missing values because the distribution of the data values is symmetrical, and there are no clear outliers."
   ]
  },
  {
   "cell_type": "code",
   "execution_count": 17,
   "id": "c22767c9",
   "metadata": {
    "scrolled": true
   },
   "outputs": [
    {
     "name": "stdout",
     "output_type": "stream",
     "text": [
      "Missing value of the Parch column solved\n",
      "----------------------------------------------------------------------------------------------------\n",
      "Checking another missing value :\n"
     ]
    },
    {
     "data": {
      "text/plain": [
       "PassengerId      0\n",
       "Survived         0\n",
       "Pclass           0\n",
       "Name             0\n",
       "Sex              0\n",
       "Age              0\n",
       "SibSp            0\n",
       "Parch            0\n",
       "Ticket           1\n",
       "Fare             2\n",
       "Cabin          686\n",
       "Embarked         2\n",
       "Ship             0\n",
       "dtype: int64"
      ]
     },
     "execution_count": 17,
     "metadata": {},
     "output_type": "execute_result"
    }
   ],
   "source": [
    "df2['Parch'] = df2['Parch'].fillna(np.mean(df['Parch'])).astype(int)\n",
    "print(\"Missing value of the Parch column solved\")\n",
    "print(\"-\" * 100)\n",
    "\n",
    "# Checking another missing value\n",
    "print(\"Checking another missing value :\")\n",
    "df2.isnull().sum()"
   ]
  },
  {
   "cell_type": "markdown",
   "id": "edde0946",
   "metadata": {},
   "source": [
    "#### Ticket Column"
   ]
  },
  {
   "cell_type": "markdown",
   "id": "c253c621",
   "metadata": {},
   "source": [
    "Since this table is an object, we use mode to find the most frequent value."
   ]
  },
  {
   "cell_type": "code",
   "execution_count": 18,
   "id": "94900633",
   "metadata": {},
   "outputs": [
    {
     "data": {
      "text/plain": [
       "0        1601\n",
       "1    CA. 2343\n",
       "Name: Ticket, dtype: object"
      ]
     },
     "execution_count": 18,
     "metadata": {},
     "output_type": "execute_result"
    }
   ],
   "source": [
    "df2['Ticket'].mode()"
   ]
  },
  {
   "cell_type": "code",
   "execution_count": 19,
   "id": "67eedb51",
   "metadata": {
    "scrolled": true
   },
   "outputs": [
    {
     "name": "stdout",
     "output_type": "stream",
     "text": [
      "Missing value of the ticket column solved\n",
      "----------------------------------------------------------------------------------------------------\n",
      "Checking another missing value :\n"
     ]
    },
    {
     "data": {
      "text/plain": [
       "PassengerId      0\n",
       "Survived         0\n",
       "Pclass           0\n",
       "Name             0\n",
       "Sex              0\n",
       "Age              0\n",
       "SibSp            0\n",
       "Parch            0\n",
       "Ticket           0\n",
       "Fare             2\n",
       "Cabin          686\n",
       "Embarked         2\n",
       "Ship             0\n",
       "dtype: int64"
      ]
     },
     "execution_count": 19,
     "metadata": {},
     "output_type": "execute_result"
    }
   ],
   "source": [
    "df2['Ticket'].fillna(df2['Ticket'].mode()[0], inplace=True)\n",
    "print(\"Missing value of the ticket column solved\")\n",
    "print(\"-\" * 100)\n",
    "\n",
    "# Checking another missing value\n",
    "print(\"Checking another missing value :\")\n",
    "df2.isnull().sum()"
   ]
  },
  {
   "cell_type": "markdown",
   "id": "43e6c1b9",
   "metadata": {},
   "source": [
    "#### Fare Column"
   ]
  },
  {
   "cell_type": "markdown",
   "id": "82689f6f",
   "metadata": {},
   "source": [
    "In this table, we use the mean value to fill in the missing values because the distribution of the data values is symmetrical, and there are no clear outliers."
   ]
  },
  {
   "cell_type": "code",
   "execution_count": 20,
   "id": "df00418e",
   "metadata": {},
   "outputs": [
    {
     "name": "stdout",
     "output_type": "stream",
     "text": [
      "Missing value of the Fare column solved\n",
      "----------------------------------------------------------------------------------------------------\n",
      "Checking another missing value :\n"
     ]
    },
    {
     "data": {
      "text/plain": [
       "PassengerId      0\n",
       "Survived         0\n",
       "Pclass           0\n",
       "Name             0\n",
       "Sex              0\n",
       "Age              0\n",
       "SibSp            0\n",
       "Parch            0\n",
       "Ticket           0\n",
       "Fare             0\n",
       "Cabin          686\n",
       "Embarked         2\n",
       "Ship             0\n",
       "dtype: int64"
      ]
     },
     "execution_count": 20,
     "metadata": {},
     "output_type": "execute_result"
    }
   ],
   "source": [
    "df2['Fare'] = df2['Fare'].fillna(np.mean(df2['Fare']))\n",
    "print(\"Missing value of the Fare column solved\")\n",
    "print(\"-\" * 100)\n",
    "\n",
    "# Checking another missing value\n",
    "print(\"Checking another missing value :\")\n",
    "df2.isnull().sum()"
   ]
  },
  {
   "cell_type": "markdown",
   "id": "11855e89",
   "metadata": {},
   "source": [
    "#### Cabin Column"
   ]
  },
  {
   "cell_type": "markdown",
   "id": "42b9abc7",
   "metadata": {},
   "source": [
    "Since this table is an object, and the missing value is bigger, so we add unknown for the missing value"
   ]
  },
  {
   "cell_type": "code",
   "execution_count": 21,
   "id": "57224ea6",
   "metadata": {},
   "outputs": [
    {
     "name": "stdout",
     "output_type": "stream",
     "text": [
      "Missing value of the cabin column solved\n",
      "----------------------------------------------------------------------------------------------------\n",
      "Checking another missing value :\n"
     ]
    },
    {
     "data": {
      "text/plain": [
       "PassengerId    0\n",
       "Survived       0\n",
       "Pclass         0\n",
       "Name           0\n",
       "Sex            0\n",
       "Age            0\n",
       "SibSp          0\n",
       "Parch          0\n",
       "Ticket         0\n",
       "Fare           0\n",
       "Cabin          0\n",
       "Embarked       2\n",
       "Ship           0\n",
       "dtype: int64"
      ]
     },
     "execution_count": 21,
     "metadata": {},
     "output_type": "execute_result"
    }
   ],
   "source": [
    "df2['Cabin'].fillna(\"Unknown\",axis=0,inplace=True)\n",
    "print(\"Missing value of the cabin column solved\")\n",
    "print(\"-\" * 100)\n",
    "\n",
    "# Checking another missing value\n",
    "print(\"Checking another missing value :\")\n",
    "df2.isnull().sum()"
   ]
  },
  {
   "cell_type": "markdown",
   "id": "bfa4a86c",
   "metadata": {},
   "source": [
    "#### Embarked Column"
   ]
  },
  {
   "cell_type": "markdown",
   "id": "2aa83722",
   "metadata": {},
   "source": [
    "Since this table is an object, we use mode to find the most frequent value"
   ]
  },
  {
   "cell_type": "code",
   "execution_count": 22,
   "id": "059d9ec0",
   "metadata": {},
   "outputs": [
    {
     "data": {
      "text/plain": [
       "0    S\n",
       "Name: Embarked, dtype: object"
      ]
     },
     "execution_count": 22,
     "metadata": {},
     "output_type": "execute_result"
    }
   ],
   "source": [
    "df2['Embarked'].mode()"
   ]
  },
  {
   "cell_type": "markdown",
   "id": "4ed85538",
   "metadata": {},
   "source": [
    "Since the most frequent data is \"S\", the missing value in this table will be \"S\"."
   ]
  },
  {
   "cell_type": "code",
   "execution_count": 23,
   "id": "94cb6081",
   "metadata": {
    "scrolled": true
   },
   "outputs": [
    {
     "name": "stdout",
     "output_type": "stream",
     "text": [
      "Missing value of the Embarked column solved\n",
      "----------------------------------------------------------------------------------------------------\n",
      "Checking another missing value :\n"
     ]
    },
    {
     "data": {
      "text/plain": [
       "PassengerId    0\n",
       "Survived       0\n",
       "Pclass         0\n",
       "Name           0\n",
       "Sex            0\n",
       "Age            0\n",
       "SibSp          0\n",
       "Parch          0\n",
       "Ticket         0\n",
       "Fare           0\n",
       "Cabin          0\n",
       "Embarked       0\n",
       "Ship           0\n",
       "dtype: int64"
      ]
     },
     "execution_count": 23,
     "metadata": {},
     "output_type": "execute_result"
    }
   ],
   "source": [
    "df2['Embarked'].fillna(df2['Embarked'].mode()[0], inplace=True)\n",
    "print(\"Missing value of the Embarked column solved\")\n",
    "print(\"-\" * 100)\n",
    "\n",
    "# Checking another missing value\n",
    "print(\"Checking another missing value :\")\n",
    "df2.isnull().sum()"
   ]
  },
  {
   "cell_type": "markdown",
   "id": "f1a7b563",
   "metadata": {},
   "source": [
    "Now, all columns don't have the missing values."
   ]
  },
  {
   "cell_type": "markdown",
   "id": "999e2ccf",
   "metadata": {},
   "source": [
    "### Labelling Dataset Problem"
   ]
  },
  {
   "cell_type": "markdown",
   "id": "8dc952b5",
   "metadata": {},
   "source": [
    "##### Sex Column"
   ]
  },
  {
   "cell_type": "code",
   "execution_count": 24,
   "id": "647d25a0",
   "metadata": {},
   "outputs": [
    {
     "data": {
      "text/plain": [
       "male       574\n",
       "female     308\n",
       "fem          2\n",
       "malef        1\n",
       "mal          1\n",
       "femmale      1\n",
       "feemale      1\n",
       "Female       1\n",
       "malee        1\n",
       "F            1\n",
       "Name: Sex, dtype: int64"
      ]
     },
     "execution_count": 24,
     "metadata": {},
     "output_type": "execute_result"
    }
   ],
   "source": [
    "df2['Sex'].value_counts()"
   ]
  },
  {
   "cell_type": "markdown",
   "id": "248b0940",
   "metadata": {},
   "source": [
    "In this gender column, we can see the inconsistency in gender labeling. So we change it to male and female.\n",
    "\n",
    "The labels malef, male, and malee change to male. Then, fem, femmale, feemale, Female, and F change to female. Therefore, this column will only have two labels (male and female)."
   ]
  },
  {
   "cell_type": "code",
   "execution_count": 25,
   "id": "fb909682",
   "metadata": {
    "scrolled": true
   },
   "outputs": [
    {
     "data": {
      "text/plain": [
       "male      577\n",
       "female    314\n",
       "Name: Sex, dtype: int64"
      ]
     },
     "execution_count": 25,
     "metadata": {},
     "output_type": "execute_result"
    }
   ],
   "source": [
    "# Replace the value in columns Sex\n",
    "\n",
    "# male\n",
    "df2['Sex'] = df2['Sex'].replace(['malef', 'mal', 'malee'], 'male')\n",
    "\n",
    "# female\n",
    "df2['Sex'] = df2['Sex'].replace(['fem', 'femmale', 'feemale', 'Female','F'], 'female')\n",
    "\n",
    "df2['Sex'].value_counts()"
   ]
  },
  {
   "cell_type": "markdown",
   "id": "ee9ad92b",
   "metadata": {},
   "source": [
    "##### Embarked Column"
   ]
  },
  {
   "cell_type": "code",
   "execution_count": 26,
   "id": "1d6f59c4",
   "metadata": {
    "scrolled": true
   },
   "outputs": [
    {
     "data": {
      "text/plain": [
       "S     644\n",
       "C     167\n",
       "Q      76\n",
       "So      2\n",
       "Co      1\n",
       "Qe      1\n",
       "Name: Embarked, dtype: int64"
      ]
     },
     "execution_count": 26,
     "metadata": {},
     "output_type": "execute_result"
    }
   ],
   "source": [
    "df2['Embarked'].value_counts()"
   ]
  },
  {
   "cell_type": "markdown",
   "id": "f120bd5c",
   "metadata": {},
   "source": [
    "In this embarked column, we can see the inconsistency in the labeling. So we change it to S, C and Q.\n",
    "\n",
    "So into S\n",
    "Co into Co\n",
    "Qe into Q"
   ]
  },
  {
   "cell_type": "code",
   "execution_count": 27,
   "id": "2fa47190",
   "metadata": {},
   "outputs": [
    {
     "data": {
      "text/plain": [
       "S    646\n",
       "C    168\n",
       "Q     77\n",
       "Name: Embarked, dtype: int64"
      ]
     },
     "execution_count": 27,
     "metadata": {},
     "output_type": "execute_result"
    }
   ],
   "source": [
    "# Replace the value in columns Embarked\n",
    "\n",
    "df2['Embarked'] = df2['Embarked'].replace(['So'], 'S')\n",
    "df2['Embarked'] = df2['Embarked'].replace(['Co'], 'C')\n",
    "df2['Embarked'] = df2['Embarked'].replace(['Qe'], 'Q')\n",
    "\n",
    "df2['Embarked'].value_counts()"
   ]
  },
  {
   "cell_type": "markdown",
   "id": "57b9562b",
   "metadata": {},
   "source": [
    "##### Titanic Column"
   ]
  },
  {
   "cell_type": "code",
   "execution_count": 28,
   "id": "ae2fc084",
   "metadata": {},
   "outputs": [
    {
     "data": {
      "text/plain": [
       "Titanic    889\n",
       "Titani       1\n",
       "Titnic       1\n",
       "Name: Ship, dtype: int64"
      ]
     },
     "execution_count": 28,
     "metadata": {},
     "output_type": "execute_result"
    }
   ],
   "source": [
    "df2['Ship'].value_counts()"
   ]
  },
  {
   "cell_type": "markdown",
   "id": "a6d24348",
   "metadata": {},
   "source": [
    "As we can see, there are some values. It suppose Titanic. Then, we replace Titani and Titnic to Titanic."
   ]
  },
  {
   "cell_type": "code",
   "execution_count": 29,
   "id": "ae5e7d5b",
   "metadata": {},
   "outputs": [
    {
     "data": {
      "text/plain": [
       "Titanic    891\n",
       "Name: Ship, dtype: int64"
      ]
     },
     "execution_count": 29,
     "metadata": {},
     "output_type": "execute_result"
    }
   ],
   "source": [
    "# Replace the value in columns Embarked\n",
    "\n",
    "df2['Ship'] = df2['Ship'].replace(['Titani', 'Titnic'], 'Titanic')\n",
    "\n",
    "df2['Ship'].value_counts()"
   ]
  },
  {
   "cell_type": "code",
   "execution_count": 30,
   "id": "98cb2d99",
   "metadata": {
    "scrolled": true
   },
   "outputs": [
    {
     "name": "stdout",
     "output_type": "stream",
     "text": [
      "The Results\n",
      "----------------------------------------------------------------------------------------------------\n"
     ]
    },
    {
     "data": {
      "text/html": [
       "<div>\n",
       "<style scoped>\n",
       "    .dataframe tbody tr th:only-of-type {\n",
       "        vertical-align: middle;\n",
       "    }\n",
       "\n",
       "    .dataframe tbody tr th {\n",
       "        vertical-align: top;\n",
       "    }\n",
       "\n",
       "    .dataframe thead th {\n",
       "        text-align: right;\n",
       "    }\n",
       "</style>\n",
       "<table border=\"1\" class=\"dataframe\">\n",
       "  <thead>\n",
       "    <tr style=\"text-align: right;\">\n",
       "      <th></th>\n",
       "      <th>PassengerId</th>\n",
       "      <th>Survived</th>\n",
       "      <th>Pclass</th>\n",
       "      <th>Name</th>\n",
       "      <th>Sex</th>\n",
       "      <th>Age</th>\n",
       "      <th>SibSp</th>\n",
       "      <th>Parch</th>\n",
       "      <th>Ticket</th>\n",
       "      <th>Fare</th>\n",
       "      <th>Cabin</th>\n",
       "      <th>Embarked</th>\n",
       "      <th>Ship</th>\n",
       "    </tr>\n",
       "  </thead>\n",
       "  <tbody>\n",
       "    <tr>\n",
       "      <th>0</th>\n",
       "      <td>1</td>\n",
       "      <td>0</td>\n",
       "      <td>3.0</td>\n",
       "      <td>Braund, Mr. Owen Harris</td>\n",
       "      <td>male</td>\n",
       "      <td>22</td>\n",
       "      <td>1</td>\n",
       "      <td>0</td>\n",
       "      <td>A/5 21171</td>\n",
       "      <td>7.2500</td>\n",
       "      <td>Unknown</td>\n",
       "      <td>S</td>\n",
       "      <td>Titanic</td>\n",
       "    </tr>\n",
       "    <tr>\n",
       "      <th>1</th>\n",
       "      <td>2</td>\n",
       "      <td>1</td>\n",
       "      <td>1.0</td>\n",
       "      <td>Cumings, Mrs. John Bradley (Florence Briggs Th...</td>\n",
       "      <td>female</td>\n",
       "      <td>38</td>\n",
       "      <td>1</td>\n",
       "      <td>0</td>\n",
       "      <td>PC 17599</td>\n",
       "      <td>71.2833</td>\n",
       "      <td>C85</td>\n",
       "      <td>C</td>\n",
       "      <td>Titanic</td>\n",
       "    </tr>\n",
       "  </tbody>\n",
       "</table>\n",
       "</div>"
      ],
      "text/plain": [
       "   PassengerId  Survived  Pclass  \\\n",
       "0            1         0     3.0   \n",
       "1            2         1     1.0   \n",
       "\n",
       "                                                Name     Sex  Age  SibSp  \\\n",
       "0                            Braund, Mr. Owen Harris    male   22      1   \n",
       "1  Cumings, Mrs. John Bradley (Florence Briggs Th...  female   38      1   \n",
       "\n",
       "   Parch     Ticket     Fare    Cabin Embarked     Ship  \n",
       "0      0  A/5 21171   7.2500  Unknown        S  Titanic  \n",
       "1      0   PC 17599  71.2833      C85        C  Titanic  "
      ]
     },
     "execution_count": 30,
     "metadata": {},
     "output_type": "execute_result"
    }
   ],
   "source": [
    "print(\"The Results\")\n",
    "print(\"-\" * 100)\n",
    "df2.head(2)"
   ]
  },
  {
   "cell_type": "markdown",
   "id": "37d215d2",
   "metadata": {},
   "source": [
    "### Outlier Detection"
   ]
  },
  {
   "cell_type": "code",
   "execution_count": 31,
   "id": "2d7cf3df",
   "metadata": {},
   "outputs": [
    {
     "data": {
      "text/html": [
       "<div>\n",
       "<style scoped>\n",
       "    .dataframe tbody tr th:only-of-type {\n",
       "        vertical-align: middle;\n",
       "    }\n",
       "\n",
       "    .dataframe tbody tr th {\n",
       "        vertical-align: top;\n",
       "    }\n",
       "\n",
       "    .dataframe thead th {\n",
       "        text-align: right;\n",
       "    }\n",
       "</style>\n",
       "<table border=\"1\" class=\"dataframe\">\n",
       "  <thead>\n",
       "    <tr style=\"text-align: right;\">\n",
       "      <th></th>\n",
       "      <th>PassengerId</th>\n",
       "      <th>Survived</th>\n",
       "      <th>Pclass</th>\n",
       "      <th>Age</th>\n",
       "      <th>SibSp</th>\n",
       "      <th>Parch</th>\n",
       "      <th>Fare</th>\n",
       "    </tr>\n",
       "  </thead>\n",
       "  <tbody>\n",
       "    <tr>\n",
       "      <th>count</th>\n",
       "      <td>891.000000</td>\n",
       "      <td>891.000000</td>\n",
       "      <td>891.000000</td>\n",
       "      <td>891.000000</td>\n",
       "      <td>891.000000</td>\n",
       "      <td>891.00000</td>\n",
       "      <td>891.000000</td>\n",
       "    </tr>\n",
       "    <tr>\n",
       "      <th>mean</th>\n",
       "      <td>447.254770</td>\n",
       "      <td>0.379349</td>\n",
       "      <td>2.305275</td>\n",
       "      <td>34.448934</td>\n",
       "      <td>0.602694</td>\n",
       "      <td>0.37037</td>\n",
       "      <td>32.045420</td>\n",
       "    </tr>\n",
       "    <tr>\n",
       "      <th>std</th>\n",
       "      <td>258.715268</td>\n",
       "      <td>0.508114</td>\n",
       "      <td>0.847312</td>\n",
       "      <td>148.330834</td>\n",
       "      <td>2.575458</td>\n",
       "      <td>0.76861</td>\n",
       "      <td>49.853724</td>\n",
       "    </tr>\n",
       "    <tr>\n",
       "      <th>min</th>\n",
       "      <td>-12.000000</td>\n",
       "      <td>-4.000000</td>\n",
       "      <td>-2.000000</td>\n",
       "      <td>-12.000000</td>\n",
       "      <td>0.000000</td>\n",
       "      <td>0.00000</td>\n",
       "      <td>-90.000000</td>\n",
       "    </tr>\n",
       "    <tr>\n",
       "      <th>25%</th>\n",
       "      <td>224.500000</td>\n",
       "      <td>0.000000</td>\n",
       "      <td>2.000000</td>\n",
       "      <td>22.000000</td>\n",
       "      <td>0.000000</td>\n",
       "      <td>0.00000</td>\n",
       "      <td>7.895800</td>\n",
       "    </tr>\n",
       "    <tr>\n",
       "      <th>50%</th>\n",
       "      <td>446.000000</td>\n",
       "      <td>0.000000</td>\n",
       "      <td>3.000000</td>\n",
       "      <td>28.000000</td>\n",
       "      <td>0.000000</td>\n",
       "      <td>0.00000</td>\n",
       "      <td>14.454200</td>\n",
       "    </tr>\n",
       "    <tr>\n",
       "      <th>75%</th>\n",
       "      <td>669.500000</td>\n",
       "      <td>1.000000</td>\n",
       "      <td>3.000000</td>\n",
       "      <td>35.000000</td>\n",
       "      <td>1.000000</td>\n",
       "      <td>0.00000</td>\n",
       "      <td>31.000000</td>\n",
       "    </tr>\n",
       "    <tr>\n",
       "      <th>max</th>\n",
       "      <td>1143.000000</td>\n",
       "      <td>1.000000</td>\n",
       "      <td>3.000000</td>\n",
       "      <td>4435.000000</td>\n",
       "      <td>70.000000</td>\n",
       "      <td>5.00000</td>\n",
       "      <td>512.329200</td>\n",
       "    </tr>\n",
       "  </tbody>\n",
       "</table>\n",
       "</div>"
      ],
      "text/plain": [
       "       PassengerId    Survived      Pclass          Age       SibSp  \\\n",
       "count   891.000000  891.000000  891.000000   891.000000  891.000000   \n",
       "mean    447.254770    0.379349    2.305275    34.448934    0.602694   \n",
       "std     258.715268    0.508114    0.847312   148.330834    2.575458   \n",
       "min     -12.000000   -4.000000   -2.000000   -12.000000    0.000000   \n",
       "25%     224.500000    0.000000    2.000000    22.000000    0.000000   \n",
       "50%     446.000000    0.000000    3.000000    28.000000    0.000000   \n",
       "75%     669.500000    1.000000    3.000000    35.000000    1.000000   \n",
       "max    1143.000000    1.000000    3.000000  4435.000000   70.000000   \n",
       "\n",
       "           Parch        Fare  \n",
       "count  891.00000  891.000000  \n",
       "mean     0.37037   32.045420  \n",
       "std      0.76861   49.853724  \n",
       "min      0.00000  -90.000000  \n",
       "25%      0.00000    7.895800  \n",
       "50%      0.00000   14.454200  \n",
       "75%      0.00000   31.000000  \n",
       "max      5.00000  512.329200  "
      ]
     },
     "execution_count": 31,
     "metadata": {},
     "output_type": "execute_result"
    }
   ],
   "source": [
    "# analysis\n",
    "df2.describe()"
   ]
  },
  {
   "cell_type": "markdown",
   "id": "5cc18f23",
   "metadata": {},
   "source": [
    "##### Column Survived"
   ]
  },
  {
   "cell_type": "code",
   "execution_count": 32,
   "id": "efb3c8d5",
   "metadata": {},
   "outputs": [
    {
     "data": {
      "image/png": "[encoded data removed]",
      "text/plain": [
       "<Figure size 640x480 with 1 Axes>"
      ]
     },
     "metadata": {},
     "output_type": "display_data"
    }
   ],
   "source": [
    "# Outliers Detection\n",
    "\n",
    "sns.boxplot(x=df2['Survived'])\n",
    "plt.show()"
   ]
  },
  {
   "cell_type": "code",
   "execution_count": 33,
   "id": "b4c3024b",
   "metadata": {},
   "outputs": [
    {
     "data": {
      "text/plain": [
       " 0    548\n",
       " 1    342\n",
       "-4      1\n",
       "Name: Survived, dtype: int64"
      ]
     },
     "execution_count": 33,
     "metadata": {},
     "output_type": "execute_result"
    }
   ],
   "source": [
    "# Column Survived\n",
    "df2['Survived'].value_counts()"
   ]
  },
  {
   "cell_type": "markdown",
   "id": "b6ba5f09",
   "metadata": {},
   "source": [
    "In survived columns, the minimum value is -4, and the maximum is 1, but we can see this column has a mean value bigger than zero. So, we will change -4 into 0 since it is below the mean value."
   ]
  },
  {
   "cell_type": "markdown",
   "id": "deeb65a5",
   "metadata": {},
   "source": [
    "Only one data has -4. Now, we replace it into 0. Hence, the survived column only has two values (0 and 1)."
   ]
  },
  {
   "cell_type": "code",
   "execution_count": 34,
   "id": "3e261e78",
   "metadata": {},
   "outputs": [
    {
     "data": {
      "text/plain": [
       "0    549\n",
       "1    342\n",
       "Name: Survived, dtype: int64"
      ]
     },
     "execution_count": 34,
     "metadata": {},
     "output_type": "execute_result"
    }
   ],
   "source": [
    "# Replace the value in columns Survived\n",
    "df2['Survived'] = df2['Survived'].replace([-4], 0)\n",
    "df2['Survived'].value_counts()"
   ]
  },
  {
   "cell_type": "code",
   "execution_count": 35,
   "id": "1eb6928f",
   "metadata": {},
   "outputs": [
    {
     "data": {
      "image/png": "[encoded data removed]",
      "text/plain": [
       "<Figure size 640x480 with 1 Axes>"
      ]
     },
     "metadata": {},
     "output_type": "display_data"
    }
   ],
   "source": [
    "# Outliers Detection\n",
    "\n",
    "sns.boxplot(x=df2['Survived'])\n",
    "plt.show()"
   ]
  },
  {
   "cell_type": "markdown",
   "id": "54170b3f",
   "metadata": {},
   "source": [
    "##### Column Pclass"
   ]
  },
  {
   "cell_type": "markdown",
   "id": "4bc7378d",
   "metadata": {},
   "source": [
    "Pclass column has a mean value bigger than 0, but it has a minimum value of -2, which is lower than the mean value. Let's look at the values."
   ]
  },
  {
   "cell_type": "code",
   "execution_count": 36,
   "id": "16da07cc",
   "metadata": {},
   "outputs": [
    {
     "data": {
      "image/png": "[encoded data removed]",
      "text/plain": [
       "<Figure size 640x480 with 1 Axes>"
      ]
     },
     "metadata": {},
     "output_type": "display_data"
    }
   ],
   "source": [
    "# Outliers Detection\n",
    "\n",
    "sns.boxplot(x=df2['Pclass'])\n",
    "plt.show()"
   ]
  },
  {
   "cell_type": "code",
   "execution_count": 37,
   "id": "65a5f9f7",
   "metadata": {},
   "outputs": [
    {
     "data": {
      "text/plain": [
       " 3.0    491\n",
       " 1.0    215\n",
       " 2.0    184\n",
       "-2.0      1\n",
       "Name: Pclass, dtype: int64"
      ]
     },
     "execution_count": 37,
     "metadata": {},
     "output_type": "execute_result"
    }
   ],
   "source": [
    "df2['Pclass'].value_counts()"
   ]
  },
  {
   "cell_type": "markdown",
   "id": "35bf746b",
   "metadata": {},
   "source": [
    "As we can see, only 1 data has -2.0. We can replace it with a minimum value (1) because it is also lower than the mean value. Then, this column will have three values (3.0, 2.0, and 1.0)."
   ]
  },
  {
   "cell_type": "code",
   "execution_count": 38,
   "id": "bf92efcb",
   "metadata": {
    "scrolled": true
   },
   "outputs": [
    {
     "data": {
      "text/plain": [
       "3.0    491\n",
       "1.0    216\n",
       "2.0    184\n",
       "Name: Pclass, dtype: int64"
      ]
     },
     "execution_count": 38,
     "metadata": {},
     "output_type": "execute_result"
    }
   ],
   "source": [
    "df2['Pclass'] = df2['Pclass'].replace([-2], 1)\n",
    "df2['Pclass'].value_counts()"
   ]
  },
  {
   "cell_type": "code",
   "execution_count": 39,
   "id": "efcab87c",
   "metadata": {},
   "outputs": [
    {
     "name": "stdout",
     "output_type": "stream",
     "text": [
      "The Results\n",
      "----------------------------------------------------------------------------------------------------\n"
     ]
    },
    {
     "data": {
      "image/png": "[encoded data removed]",
      "text/plain": [
       "<Figure size 640x480 with 1 Axes>"
      ]
     },
     "metadata": {},
     "output_type": "display_data"
    }
   ],
   "source": [
    "print(\"The Results\")\n",
    "print(\"-\" * 100)\n",
    "\n",
    "# Outliers Detection\n",
    "\n",
    "sns.boxplot(x=df2['Pclass'])\n",
    "plt.show()"
   ]
  },
  {
   "cell_type": "markdown",
   "id": "1598c546",
   "metadata": {},
   "source": [
    "##### Column Age"
   ]
  },
  {
   "cell_type": "markdown",
   "id": "58e5a39c",
   "metadata": {},
   "source": [
    "The age column has significant data inequality with a minimum value of -2 and a maximum of more than 4,000. Meanwhile, the mean value of the age column is 36.20."
   ]
  },
  {
   "cell_type": "code",
   "execution_count": 40,
   "id": "d9dd5cba",
   "metadata": {
    "scrolled": false
   },
   "outputs": [
    {
     "data": {
      "text/plain": [
       " 28    222\n",
       " 24     30\n",
       " 22     27\n",
       " 18     26\n",
       " 19     25\n",
       "      ... \n",
       "-12      1\n",
       "-3       1\n",
       " 66      1\n",
       " 12      1\n",
       " 74      1\n",
       "Name: Age, Length: 75, dtype: int64"
      ]
     },
     "execution_count": 40,
     "metadata": {},
     "output_type": "execute_result"
    }
   ],
   "source": [
    "df2['Age'].value_counts()"
   ]
  },
  {
   "cell_type": "code",
   "execution_count": 41,
   "id": "633825e7",
   "metadata": {},
   "outputs": [
    {
     "data": {
      "image/png": "[encoded data removed]",
      "text/plain": [
       "<Figure size 640x480 with 1 Axes>"
      ]
     },
     "metadata": {},
     "output_type": "display_data"
    }
   ],
   "source": [
    "# Outliers Detection\n",
    "\n",
    "sns.boxplot(x=df2['Age'])\n",
    "plt.show()"
   ]
  },
  {
   "cell_type": "markdown",
   "id": "4517a2f2",
   "metadata": {},
   "source": [
    "Because age has a varied range, we choose the Winsorizing to replace with other values. Common is replacing the outliers on th upper side with 75% percentile value and outlier on the lower side with 25% percentile."
   ]
  },
  {
   "cell_type": "code",
   "execution_count": 42,
   "id": "c0dfcdd4",
   "metadata": {},
   "outputs": [],
   "source": [
    "from scipy.stats.mstats import winsorize\n",
    "from scipy.stats import mstats\n",
    "\n",
    "df2['Age'] = winsorize(df2['Age'], limits = 0.25)"
   ]
  },
  {
   "cell_type": "markdown",
   "id": "0a8aed1b",
   "metadata": {},
   "source": [
    "Check the Result"
   ]
  },
  {
   "cell_type": "code",
   "execution_count": 43,
   "id": "37f0fa5b",
   "metadata": {},
   "outputs": [
    {
     "data": {
      "image/png": "[encoded data removed]",
      "text/plain": [
       "<Figure size 640x480 with 1 Axes>"
      ]
     },
     "metadata": {},
     "output_type": "display_data"
    }
   ],
   "source": [
    "# Outliers Detection\n",
    "\n",
    "sns.boxplot(x=df2['Age'])\n",
    "plt.show()"
   ]
  },
  {
   "cell_type": "markdown",
   "id": "fd565db8",
   "metadata": {},
   "source": [
    "##### SibSp Column"
   ]
  },
  {
   "cell_type": "markdown",
   "id": "f8421ed8",
   "metadata": {},
   "source": [
    "In this column, the maximum value is 70.00, and the minimum value is 0, but we can see this column has a mean value more than zero. Because this column has a gap in data, we decide to use the Winsorize again."
   ]
  },
  {
   "cell_type": "code",
   "execution_count": 44,
   "id": "88f14757",
   "metadata": {
    "scrolled": false
   },
   "outputs": [
    {
     "data": {
      "image/png": "[encoded data removed]",
      "text/plain": [
       "<Figure size 640x480 with 1 Axes>"
      ]
     },
     "metadata": {},
     "output_type": "display_data"
    }
   ],
   "source": [
    "# Outliers Detection\n",
    "\n",
    "sns.boxplot(x=df2['SibSp'])\n",
    "plt.show()"
   ]
  },
  {
   "cell_type": "code",
   "execution_count": 45,
   "id": "c5d2b63f",
   "metadata": {
    "scrolled": true
   },
   "outputs": [
    {
     "data": {
      "text/plain": [
       "0     606\n",
       "1     210\n",
       "2      28\n",
       "4      18\n",
       "3      16\n",
       "8       7\n",
       "5       5\n",
       "70      1\n",
       "Name: SibSp, dtype: int64"
      ]
     },
     "execution_count": 45,
     "metadata": {},
     "output_type": "execute_result"
    }
   ],
   "source": [
    "df2['SibSp'].value_counts()"
   ]
  },
  {
   "cell_type": "markdown",
   "id": "4cc304fb",
   "metadata": {},
   "source": [
    "As we can there a lot of range data, the standar deviation is only 2, so we change the values which are bigger than 2 into two and below to 0 into 0."
   ]
  },
  {
   "cell_type": "code",
   "execution_count": 46,
   "id": "ce81ed59",
   "metadata": {},
   "outputs": [
    {
     "data": {
      "text/plain": [
       "0    606\n",
       "1    210\n",
       "2     75\n",
       "Name: SibSp, dtype: int64"
      ]
     },
     "execution_count": 46,
     "metadata": {},
     "output_type": "execute_result"
    }
   ],
   "source": [
    "df2['SibSp'] = df2['SibSp'].replace([70, 5, 8, 3, 4], 2)\n",
    "df2['SibSp'].value_counts()"
   ]
  },
  {
   "cell_type": "code",
   "execution_count": 47,
   "id": "0f8e1db7",
   "metadata": {
    "scrolled": false
   },
   "outputs": [
    {
     "name": "stdout",
     "output_type": "stream",
     "text": [
      "Check the result\n"
     ]
    },
    {
     "data": {
      "image/png": "[encoded data removed]",
      "text/plain": [
       "<Figure size 640x480 with 1 Axes>"
      ]
     },
     "metadata": {},
     "output_type": "display_data"
    }
   ],
   "source": [
    "print(\"Check the result\")\n",
    "\n",
    "# Outliers Detection\n",
    "\n",
    "sns.boxplot(x=df2['SibSp'])\n",
    "plt.show()"
   ]
  },
  {
   "cell_type": "markdown",
   "id": "52e0d043",
   "metadata": {},
   "source": [
    "Looks nice"
   ]
  },
  {
   "cell_type": "markdown",
   "id": "922e53dd",
   "metadata": {},
   "source": [
    "##### Fare Column"
   ]
  },
  {
   "cell_type": "markdown",
   "id": "65d7d281",
   "metadata": {},
   "source": [
    "In this column, the maximum value is bigger than 4000, while the minimum value is -12, but we can see this column has a mean value equal 36. Because this column has a gap in data, we decide to use the Wonorize again."
   ]
  },
  {
   "cell_type": "code",
   "execution_count": 48,
   "id": "e43a25db",
   "metadata": {},
   "outputs": [
    {
     "name": "stdout",
     "output_type": "stream",
     "text": [
      "Checking Outlier\n"
     ]
    },
    {
     "data": {
      "image/png": "[encoded data removed]",
      "text/plain": [
       "<Figure size 640x480 with 1 Axes>"
      ]
     },
     "metadata": {},
     "output_type": "display_data"
    }
   ],
   "source": [
    "# Outliers Detection\n",
    "\n",
    "print(\"Checking Outlier\")\n",
    "sns.boxplot(x=df2['Fare'])\n",
    "plt.show()"
   ]
  },
  {
   "cell_type": "code",
   "execution_count": 49,
   "id": "c6dfd60f",
   "metadata": {
    "scrolled": true
   },
   "outputs": [
    {
     "data": {
      "text/plain": [
       "8.0500     43\n",
       "13.0000    42\n",
       "7.8958     38\n",
       "7.7500     34\n",
       "26.0000    31\n",
       "           ..\n",
       "28.5000     1\n",
       "6.2375      1\n",
       "14.0000     1\n",
       "9.4750      1\n",
       "10.5167     1\n",
       "Name: Fare, Length: 250, dtype: int64"
      ]
     },
     "execution_count": 49,
     "metadata": {},
     "output_type": "execute_result"
    }
   ],
   "source": [
    "df2['Fare'].value_counts()"
   ]
  },
  {
   "cell_type": "markdown",
   "id": "8e0a432e",
   "metadata": {},
   "source": [
    "Because Fare has a varied range, we choose the Winsorizing to replace with other values. Common is replacing the outliers on th upper side with 75% percentile value and outlier on the lower side with 25% percentile."
   ]
  },
  {
   "cell_type": "code",
   "execution_count": 50,
   "id": "7a0a6662",
   "metadata": {
    "scrolled": false
   },
   "outputs": [
    {
     "name": "stdout",
     "output_type": "stream",
     "text": [
      "Check the result\n"
     ]
    },
    {
     "data": {
      "image/png": "[encoded data removed]",
      "text/plain": [
       "<Figure size 640x480 with 1 Axes>"
      ]
     },
     "metadata": {},
     "output_type": "display_data"
    }
   ],
   "source": [
    "df2['Fare'] = winsorize(df2['Fare'], limits = 0.25)\n",
    "\n",
    "print(\"Check the result\")\n",
    "\n",
    "# Outliers Detection\n",
    "\n",
    "sns.boxplot(x=df2['Fare'])\n",
    "plt.show()"
   ]
  },
  {
   "cell_type": "markdown",
   "id": "ea1a47ac",
   "metadata": {},
   "source": [
    "## Result"
   ]
  },
  {
   "cell_type": "code",
   "execution_count": 51,
   "id": "c83a36f4",
   "metadata": {
    "scrolled": true
   },
   "outputs": [
    {
     "data": {
      "text/html": [
       "<div>\n",
       "<style scoped>\n",
       "    .dataframe tbody tr th:only-of-type {\n",
       "        vertical-align: middle;\n",
       "    }\n",
       "\n",
       "    .dataframe tbody tr th {\n",
       "        vertical-align: top;\n",
       "    }\n",
       "\n",
       "    .dataframe thead th {\n",
       "        text-align: right;\n",
       "    }\n",
       "</style>\n",
       "<table border=\"1\" class=\"dataframe\">\n",
       "  <thead>\n",
       "    <tr style=\"text-align: right;\">\n",
       "      <th></th>\n",
       "      <th>PassengerId</th>\n",
       "      <th>Survived</th>\n",
       "      <th>Pclass</th>\n",
       "      <th>Name</th>\n",
       "      <th>Sex</th>\n",
       "      <th>Age</th>\n",
       "      <th>SibSp</th>\n",
       "      <th>Parch</th>\n",
       "      <th>Ticket</th>\n",
       "      <th>Fare</th>\n",
       "      <th>Cabin</th>\n",
       "      <th>Embarked</th>\n",
       "      <th>Ship</th>\n",
       "    </tr>\n",
       "  </thead>\n",
       "  <tbody>\n",
       "    <tr>\n",
       "      <th>0</th>\n",
       "      <td>1</td>\n",
       "      <td>0</td>\n",
       "      <td>3.0</td>\n",
       "      <td>Braund, Mr. Owen Harris</td>\n",
       "      <td>male</td>\n",
       "      <td>22</td>\n",
       "      <td>1</td>\n",
       "      <td>0</td>\n",
       "      <td>A/5 21171</td>\n",
       "      <td>7.8958</td>\n",
       "      <td>Unknown</td>\n",
       "      <td>S</td>\n",
       "      <td>Titanic</td>\n",
       "    </tr>\n",
       "    <tr>\n",
       "      <th>1</th>\n",
       "      <td>2</td>\n",
       "      <td>1</td>\n",
       "      <td>1.0</td>\n",
       "      <td>Cumings, Mrs. John Bradley (Florence Briggs Th...</td>\n",
       "      <td>female</td>\n",
       "      <td>35</td>\n",
       "      <td>1</td>\n",
       "      <td>0</td>\n",
       "      <td>PC 17599</td>\n",
       "      <td>31.0000</td>\n",
       "      <td>C85</td>\n",
       "      <td>C</td>\n",
       "      <td>Titanic</td>\n",
       "    </tr>\n",
       "    <tr>\n",
       "      <th>2</th>\n",
       "      <td>3</td>\n",
       "      <td>1</td>\n",
       "      <td>3.0</td>\n",
       "      <td>Heikkinen, Miss. Laina</td>\n",
       "      <td>female</td>\n",
       "      <td>26</td>\n",
       "      <td>0</td>\n",
       "      <td>0</td>\n",
       "      <td>STON/O2. 3101282</td>\n",
       "      <td>7.9250</td>\n",
       "      <td>Unknown</td>\n",
       "      <td>S</td>\n",
       "      <td>Titanic</td>\n",
       "    </tr>\n",
       "    <tr>\n",
       "      <th>3</th>\n",
       "      <td>4</td>\n",
       "      <td>1</td>\n",
       "      <td>1.0</td>\n",
       "      <td>Futrelle, Mrs. Jacques Heath (Lily May Peel)</td>\n",
       "      <td>female</td>\n",
       "      <td>35</td>\n",
       "      <td>1</td>\n",
       "      <td>0</td>\n",
       "      <td>113803</td>\n",
       "      <td>31.0000</td>\n",
       "      <td>C123</td>\n",
       "      <td>S</td>\n",
       "      <td>Titanic</td>\n",
       "    </tr>\n",
       "    <tr>\n",
       "      <th>4</th>\n",
       "      <td>5</td>\n",
       "      <td>0</td>\n",
       "      <td>3.0</td>\n",
       "      <td>Allen, Mr. William Henry</td>\n",
       "      <td>male</td>\n",
       "      <td>35</td>\n",
       "      <td>0</td>\n",
       "      <td>0</td>\n",
       "      <td>373450</td>\n",
       "      <td>8.0500</td>\n",
       "      <td>Unknown</td>\n",
       "      <td>S</td>\n",
       "      <td>Titanic</td>\n",
       "    </tr>\n",
       "    <tr>\n",
       "      <th>5</th>\n",
       "      <td>6</td>\n",
       "      <td>0</td>\n",
       "      <td>3.0</td>\n",
       "      <td>Moran, Mr. James</td>\n",
       "      <td>male</td>\n",
       "      <td>28</td>\n",
       "      <td>0</td>\n",
       "      <td>0</td>\n",
       "      <td>330877</td>\n",
       "      <td>8.4583</td>\n",
       "      <td>Unknown</td>\n",
       "      <td>Q</td>\n",
       "      <td>Titanic</td>\n",
       "    </tr>\n",
       "    <tr>\n",
       "      <th>6</th>\n",
       "      <td>7</td>\n",
       "      <td>0</td>\n",
       "      <td>1.0</td>\n",
       "      <td>McCarthy, Mr. Timothy J</td>\n",
       "      <td>male</td>\n",
       "      <td>35</td>\n",
       "      <td>0</td>\n",
       "      <td>0</td>\n",
       "      <td>17463</td>\n",
       "      <td>31.0000</td>\n",
       "      <td>E46</td>\n",
       "      <td>S</td>\n",
       "      <td>Titanic</td>\n",
       "    </tr>\n",
       "    <tr>\n",
       "      <th>7</th>\n",
       "      <td>8</td>\n",
       "      <td>0</td>\n",
       "      <td>3.0</td>\n",
       "      <td>Palsson, Master. Gosta Leonard</td>\n",
       "      <td>male</td>\n",
       "      <td>22</td>\n",
       "      <td>2</td>\n",
       "      <td>1</td>\n",
       "      <td>349909</td>\n",
       "      <td>21.0750</td>\n",
       "      <td>Unknown</td>\n",
       "      <td>S</td>\n",
       "      <td>Titanic</td>\n",
       "    </tr>\n",
       "    <tr>\n",
       "      <th>8</th>\n",
       "      <td>9</td>\n",
       "      <td>1</td>\n",
       "      <td>3.0</td>\n",
       "      <td>Johnson, Mrs. Oscar W (Elisabeth Vilhelmina Berg)</td>\n",
       "      <td>female</td>\n",
       "      <td>27</td>\n",
       "      <td>0</td>\n",
       "      <td>2</td>\n",
       "      <td>347742</td>\n",
       "      <td>11.1333</td>\n",
       "      <td>Unknown</td>\n",
       "      <td>S</td>\n",
       "      <td>Titanic</td>\n",
       "    </tr>\n",
       "    <tr>\n",
       "      <th>9</th>\n",
       "      <td>10</td>\n",
       "      <td>1</td>\n",
       "      <td>2.0</td>\n",
       "      <td>Nasser, Mrs. Nicholas (Adele Achem)</td>\n",
       "      <td>female</td>\n",
       "      <td>22</td>\n",
       "      <td>1</td>\n",
       "      <td>0</td>\n",
       "      <td>237736</td>\n",
       "      <td>30.0708</td>\n",
       "      <td>Unknown</td>\n",
       "      <td>C</td>\n",
       "      <td>Titanic</td>\n",
       "    </tr>\n",
       "  </tbody>\n",
       "</table>\n",
       "</div>"
      ],
      "text/plain": [
       "   PassengerId  Survived  Pclass  \\\n",
       "0            1         0     3.0   \n",
       "1            2         1     1.0   \n",
       "2            3         1     3.0   \n",
       "3            4         1     1.0   \n",
       "4            5         0     3.0   \n",
       "5            6         0     3.0   \n",
       "6            7         0     1.0   \n",
       "7            8         0     3.0   \n",
       "8            9         1     3.0   \n",
       "9           10         1     2.0   \n",
       "\n",
       "                                                Name     Sex  Age  SibSp  \\\n",
       "0                            Braund, Mr. Owen Harris    male   22      1   \n",
       "1  Cumings, Mrs. John Bradley (Florence Briggs Th...  female   35      1   \n",
       "2                             Heikkinen, Miss. Laina  female   26      0   \n",
       "3       Futrelle, Mrs. Jacques Heath (Lily May Peel)  female   35      1   \n",
       "4                           Allen, Mr. William Henry    male   35      0   \n",
       "5                                   Moran, Mr. James    male   28      0   \n",
       "6                            McCarthy, Mr. Timothy J    male   35      0   \n",
       "7                     Palsson, Master. Gosta Leonard    male   22      2   \n",
       "8  Johnson, Mrs. Oscar W (Elisabeth Vilhelmina Berg)  female   27      0   \n",
       "9                Nasser, Mrs. Nicholas (Adele Achem)  female   22      1   \n",
       "\n",
       "   Parch            Ticket     Fare    Cabin Embarked     Ship  \n",
       "0      0         A/5 21171   7.8958  Unknown        S  Titanic  \n",
       "1      0          PC 17599  31.0000      C85        C  Titanic  \n",
       "2      0  STON/O2. 3101282   7.9250  Unknown        S  Titanic  \n",
       "3      0            113803  31.0000     C123        S  Titanic  \n",
       "4      0            373450   8.0500  Unknown        S  Titanic  \n",
       "5      0            330877   8.4583  Unknown        Q  Titanic  \n",
       "6      0             17463  31.0000      E46        S  Titanic  \n",
       "7      1            349909  21.0750  Unknown        S  Titanic  \n",
       "8      2            347742  11.1333  Unknown        S  Titanic  \n",
       "9      0            237736  30.0708  Unknown        C  Titanic  "
      ]
     },
     "execution_count": 51,
     "metadata": {},
     "output_type": "execute_result"
    }
   ],
   "source": [
    "df2.head(10)"
   ]
  },
  {
   "cell_type": "markdown",
   "id": "4ba0a652",
   "metadata": {},
   "source": [
    "### Devided Title and Name"
   ]
  },
  {
   "cell_type": "code",
   "execution_count": 52,
   "id": "e48df0dc",
   "metadata": {
    "scrolled": true
   },
   "outputs": [
    {
     "data": {
      "text/html": [
       "<div>\n",
       "<style scoped>\n",
       "    .dataframe tbody tr th:only-of-type {\n",
       "        vertical-align: middle;\n",
       "    }\n",
       "\n",
       "    .dataframe tbody tr th {\n",
       "        vertical-align: top;\n",
       "    }\n",
       "\n",
       "    .dataframe thead th {\n",
       "        text-align: right;\n",
       "    }\n",
       "</style>\n",
       "<table border=\"1\" class=\"dataframe\">\n",
       "  <thead>\n",
       "    <tr style=\"text-align: right;\">\n",
       "      <th></th>\n",
       "      <th>PassengerId</th>\n",
       "      <th>Survived</th>\n",
       "      <th>Pclass</th>\n",
       "      <th>Name</th>\n",
       "      <th>Sex</th>\n",
       "      <th>Age</th>\n",
       "      <th>SibSp</th>\n",
       "      <th>Parch</th>\n",
       "      <th>Ticket</th>\n",
       "      <th>Fare</th>\n",
       "      <th>Cabin</th>\n",
       "      <th>Embarked</th>\n",
       "      <th>Ship</th>\n",
       "      <th>Title</th>\n",
       "      <th>LastName</th>\n",
       "      <th>FirstName</th>\n",
       "    </tr>\n",
       "  </thead>\n",
       "  <tbody>\n",
       "    <tr>\n",
       "      <th>0</th>\n",
       "      <td>1</td>\n",
       "      <td>0</td>\n",
       "      <td>3.0</td>\n",
       "      <td>Braund, Mr. Owen Harris</td>\n",
       "      <td>male</td>\n",
       "      <td>22</td>\n",
       "      <td>1</td>\n",
       "      <td>0</td>\n",
       "      <td>A/5 21171</td>\n",
       "      <td>7.8958</td>\n",
       "      <td>Unknown</td>\n",
       "      <td>S</td>\n",
       "      <td>Titanic</td>\n",
       "      <td>Mr.</td>\n",
       "      <td>Braund</td>\n",
       "      <td>Owen</td>\n",
       "    </tr>\n",
       "    <tr>\n",
       "      <th>1</th>\n",
       "      <td>2</td>\n",
       "      <td>1</td>\n",
       "      <td>1.0</td>\n",
       "      <td>Cumings, Mrs. John Bradley (Florence Briggs Th...</td>\n",
       "      <td>female</td>\n",
       "      <td>35</td>\n",
       "      <td>1</td>\n",
       "      <td>0</td>\n",
       "      <td>PC 17599</td>\n",
       "      <td>31.0000</td>\n",
       "      <td>C85</td>\n",
       "      <td>C</td>\n",
       "      <td>Titanic</td>\n",
       "      <td>Mrs.</td>\n",
       "      <td>Cumings</td>\n",
       "      <td>John</td>\n",
       "    </tr>\n",
       "    <tr>\n",
       "      <th>2</th>\n",
       "      <td>3</td>\n",
       "      <td>1</td>\n",
       "      <td>3.0</td>\n",
       "      <td>Heikkinen, Miss. Laina</td>\n",
       "      <td>female</td>\n",
       "      <td>26</td>\n",
       "      <td>0</td>\n",
       "      <td>0</td>\n",
       "      <td>STON/O2. 3101282</td>\n",
       "      <td>7.9250</td>\n",
       "      <td>Unknown</td>\n",
       "      <td>S</td>\n",
       "      <td>Titanic</td>\n",
       "      <td>Miss.</td>\n",
       "      <td>Heikkinen</td>\n",
       "      <td>Laina</td>\n",
       "    </tr>\n",
       "    <tr>\n",
       "      <th>3</th>\n",
       "      <td>4</td>\n",
       "      <td>1</td>\n",
       "      <td>1.0</td>\n",
       "      <td>Futrelle, Mrs. Jacques Heath (Lily May Peel)</td>\n",
       "      <td>female</td>\n",
       "      <td>35</td>\n",
       "      <td>1</td>\n",
       "      <td>0</td>\n",
       "      <td>113803</td>\n",
       "      <td>31.0000</td>\n",
       "      <td>C123</td>\n",
       "      <td>S</td>\n",
       "      <td>Titanic</td>\n",
       "      <td>Mrs.</td>\n",
       "      <td>Futrelle</td>\n",
       "      <td>Jacques</td>\n",
       "    </tr>\n",
       "    <tr>\n",
       "      <th>4</th>\n",
       "      <td>5</td>\n",
       "      <td>0</td>\n",
       "      <td>3.0</td>\n",
       "      <td>Allen, Mr. William Henry</td>\n",
       "      <td>male</td>\n",
       "      <td>35</td>\n",
       "      <td>0</td>\n",
       "      <td>0</td>\n",
       "      <td>373450</td>\n",
       "      <td>8.0500</td>\n",
       "      <td>Unknown</td>\n",
       "      <td>S</td>\n",
       "      <td>Titanic</td>\n",
       "      <td>Mr.</td>\n",
       "      <td>Allen</td>\n",
       "      <td>William</td>\n",
       "    </tr>\n",
       "  </tbody>\n",
       "</table>\n",
       "</div>"
      ],
      "text/plain": [
       "   PassengerId  Survived  Pclass  \\\n",
       "0            1         0     3.0   \n",
       "1            2         1     1.0   \n",
       "2            3         1     3.0   \n",
       "3            4         1     1.0   \n",
       "4            5         0     3.0   \n",
       "\n",
       "                                                Name     Sex  Age  SibSp  \\\n",
       "0                            Braund, Mr. Owen Harris    male   22      1   \n",
       "1  Cumings, Mrs. John Bradley (Florence Briggs Th...  female   35      1   \n",
       "2                             Heikkinen, Miss. Laina  female   26      0   \n",
       "3       Futrelle, Mrs. Jacques Heath (Lily May Peel)  female   35      1   \n",
       "4                           Allen, Mr. William Henry    male   35      0   \n",
       "\n",
       "   Parch            Ticket     Fare    Cabin Embarked     Ship  Title  \\\n",
       "0      0         A/5 21171   7.8958  Unknown        S  Titanic    Mr.   \n",
       "1      0          PC 17599  31.0000      C85        C  Titanic   Mrs.   \n",
       "2      0  STON/O2. 3101282   7.9250  Unknown        S  Titanic  Miss.   \n",
       "3      0            113803  31.0000     C123        S  Titanic   Mrs.   \n",
       "4      0            373450   8.0500  Unknown        S  Titanic    Mr.   \n",
       "\n",
       "    LastName FirstName  \n",
       "0     Braund      Owen  \n",
       "1    Cumings      John  \n",
       "2  Heikkinen     Laina  \n",
       "3   Futrelle   Jacques  \n",
       "4      Allen   William  "
      ]
     },
     "execution_count": 52,
     "metadata": {},
     "output_type": "execute_result"
    }
   ],
   "source": [
    "df2['Title'] = df['Name'].str.split().str[1]\n",
    "df2['LastName'] = df2['Name'].str.split().str[0]\n",
    "df2['FirstName'] = df2['Name'].str.split().str[2]\n",
    "\n",
    "df2['LastName'] = df2['LastName'].str.replace(',','')\n",
    "df2.head()"
   ]
  },
  {
   "cell_type": "code",
   "execution_count": 53,
   "id": "ba74555e",
   "metadata": {
    "scrolled": true
   },
   "outputs": [
    {
     "data": {
      "text/html": [
       "<div>\n",
       "<style scoped>\n",
       "    .dataframe tbody tr th:only-of-type {\n",
       "        vertical-align: middle;\n",
       "    }\n",
       "\n",
       "    .dataframe tbody tr th {\n",
       "        vertical-align: top;\n",
       "    }\n",
       "\n",
       "    .dataframe thead th {\n",
       "        text-align: right;\n",
       "    }\n",
       "</style>\n",
       "<table border=\"1\" class=\"dataframe\">\n",
       "  <thead>\n",
       "    <tr style=\"text-align: right;\">\n",
       "      <th></th>\n",
       "      <th>PassengerId</th>\n",
       "      <th>Survived</th>\n",
       "      <th>Pclass</th>\n",
       "      <th>Title</th>\n",
       "      <th>FirstName</th>\n",
       "      <th>LastName</th>\n",
       "      <th>Sex</th>\n",
       "      <th>Age</th>\n",
       "      <th>SibSp</th>\n",
       "      <th>Parch</th>\n",
       "      <th>Ticket</th>\n",
       "      <th>Fare</th>\n",
       "      <th>Cabin</th>\n",
       "      <th>Embarked</th>\n",
       "      <th>Ship</th>\n",
       "    </tr>\n",
       "  </thead>\n",
       "  <tbody>\n",
       "    <tr>\n",
       "      <th>0</th>\n",
       "      <td>1</td>\n",
       "      <td>0</td>\n",
       "      <td>3.0</td>\n",
       "      <td>Mr.</td>\n",
       "      <td>Owen</td>\n",
       "      <td>Braund</td>\n",
       "      <td>male</td>\n",
       "      <td>22</td>\n",
       "      <td>1</td>\n",
       "      <td>0</td>\n",
       "      <td>A/5 21171</td>\n",
       "      <td>7.8958</td>\n",
       "      <td>Unknown</td>\n",
       "      <td>S</td>\n",
       "      <td>Titanic</td>\n",
       "    </tr>\n",
       "    <tr>\n",
       "      <th>1</th>\n",
       "      <td>2</td>\n",
       "      <td>1</td>\n",
       "      <td>1.0</td>\n",
       "      <td>Mrs.</td>\n",
       "      <td>John</td>\n",
       "      <td>Cumings</td>\n",
       "      <td>female</td>\n",
       "      <td>35</td>\n",
       "      <td>1</td>\n",
       "      <td>0</td>\n",
       "      <td>PC 17599</td>\n",
       "      <td>31.0000</td>\n",
       "      <td>C85</td>\n",
       "      <td>C</td>\n",
       "      <td>Titanic</td>\n",
       "    </tr>\n",
       "    <tr>\n",
       "      <th>2</th>\n",
       "      <td>3</td>\n",
       "      <td>1</td>\n",
       "      <td>3.0</td>\n",
       "      <td>Miss.</td>\n",
       "      <td>Laina</td>\n",
       "      <td>Heikkinen</td>\n",
       "      <td>female</td>\n",
       "      <td>26</td>\n",
       "      <td>0</td>\n",
       "      <td>0</td>\n",
       "      <td>STON/O2. 3101282</td>\n",
       "      <td>7.9250</td>\n",
       "      <td>Unknown</td>\n",
       "      <td>S</td>\n",
       "      <td>Titanic</td>\n",
       "    </tr>\n",
       "    <tr>\n",
       "      <th>3</th>\n",
       "      <td>4</td>\n",
       "      <td>1</td>\n",
       "      <td>1.0</td>\n",
       "      <td>Mrs.</td>\n",
       "      <td>Jacques</td>\n",
       "      <td>Futrelle</td>\n",
       "      <td>female</td>\n",
       "      <td>35</td>\n",
       "      <td>1</td>\n",
       "      <td>0</td>\n",
       "      <td>113803</td>\n",
       "      <td>31.0000</td>\n",
       "      <td>C123</td>\n",
       "      <td>S</td>\n",
       "      <td>Titanic</td>\n",
       "    </tr>\n",
       "    <tr>\n",
       "      <th>4</th>\n",
       "      <td>5</td>\n",
       "      <td>0</td>\n",
       "      <td>3.0</td>\n",
       "      <td>Mr.</td>\n",
       "      <td>William</td>\n",
       "      <td>Allen</td>\n",
       "      <td>male</td>\n",
       "      <td>35</td>\n",
       "      <td>0</td>\n",
       "      <td>0</td>\n",
       "      <td>373450</td>\n",
       "      <td>8.0500</td>\n",
       "      <td>Unknown</td>\n",
       "      <td>S</td>\n",
       "      <td>Titanic</td>\n",
       "    </tr>\n",
       "  </tbody>\n",
       "</table>\n",
       "</div>"
      ],
      "text/plain": [
       "   PassengerId  Survived  Pclass  Title FirstName   LastName     Sex  Age  \\\n",
       "0            1         0     3.0    Mr.      Owen     Braund    male   22   \n",
       "1            2         1     1.0   Mrs.      John    Cumings  female   35   \n",
       "2            3         1     3.0  Miss.     Laina  Heikkinen  female   26   \n",
       "3            4         1     1.0   Mrs.   Jacques   Futrelle  female   35   \n",
       "4            5         0     3.0    Mr.   William      Allen    male   35   \n",
       "\n",
       "   SibSp  Parch            Ticket     Fare    Cabin Embarked     Ship  \n",
       "0      1      0         A/5 21171   7.8958  Unknown        S  Titanic  \n",
       "1      1      0          PC 17599  31.0000      C85        C  Titanic  \n",
       "2      0      0  STON/O2. 3101282   7.9250  Unknown        S  Titanic  \n",
       "3      1      0            113803  31.0000     C123        S  Titanic  \n",
       "4      0      0            373450   8.0500  Unknown        S  Titanic  "
      ]
     },
     "execution_count": 53,
     "metadata": {},
     "output_type": "execute_result"
    }
   ],
   "source": [
    "new_dataset = df2[[\"PassengerId\",\"Survived\",\"Pclass\",\"Title\",\"FirstName\",\"LastName\",\"Sex\",\"Age\",\"SibSp\",\"Parch\",\"Ticket\",\"Fare\",\"Cabin\",\"Embarked\",\"Ship\"]]\n",
    "new_dataset.head()"
   ]
  },
  {
   "cell_type": "markdown",
   "id": "afe2711d",
   "metadata": {},
   "source": [
    "### Analysis"
   ]
  },
  {
   "cell_type": "code",
   "execution_count": 54,
   "id": "5e59bbea",
   "metadata": {},
   "outputs": [
    {
     "data": {
      "text/html": [
       "<div>\n",
       "<style scoped>\n",
       "    .dataframe tbody tr th:only-of-type {\n",
       "        vertical-align: middle;\n",
       "    }\n",
       "\n",
       "    .dataframe tbody tr th {\n",
       "        vertical-align: top;\n",
       "    }\n",
       "\n",
       "    .dataframe thead th {\n",
       "        text-align: right;\n",
       "    }\n",
       "</style>\n",
       "<table border=\"1\" class=\"dataframe\">\n",
       "  <thead>\n",
       "    <tr style=\"text-align: right;\">\n",
       "      <th></th>\n",
       "      <th>PassengerId</th>\n",
       "      <th>Survived</th>\n",
       "      <th>Pclass</th>\n",
       "      <th>Age</th>\n",
       "      <th>SibSp</th>\n",
       "      <th>Parch</th>\n",
       "      <th>Fare</th>\n",
       "    </tr>\n",
       "  </thead>\n",
       "  <tbody>\n",
       "    <tr>\n",
       "      <th>count</th>\n",
       "      <td>891.000000</td>\n",
       "      <td>891.000000</td>\n",
       "      <td>891.000000</td>\n",
       "      <td>891.000000</td>\n",
       "      <td>891.000000</td>\n",
       "      <td>891.00000</td>\n",
       "      <td>891.000000</td>\n",
       "    </tr>\n",
       "    <tr>\n",
       "      <th>mean</th>\n",
       "      <td>447.254770</td>\n",
       "      <td>0.383838</td>\n",
       "      <td>2.308642</td>\n",
       "      <td>28.324355</td>\n",
       "      <td>0.404040</td>\n",
       "      <td>0.37037</td>\n",
       "      <td>18.023906</td>\n",
       "    </tr>\n",
       "    <tr>\n",
       "      <th>std</th>\n",
       "      <td>258.715268</td>\n",
       "      <td>0.486592</td>\n",
       "      <td>0.836071</td>\n",
       "      <td>4.967678</td>\n",
       "      <td>0.640001</td>\n",
       "      <td>0.76861</td>\n",
       "      <td>9.807991</td>\n",
       "    </tr>\n",
       "    <tr>\n",
       "      <th>min</th>\n",
       "      <td>-12.000000</td>\n",
       "      <td>0.000000</td>\n",
       "      <td>1.000000</td>\n",
       "      <td>22.000000</td>\n",
       "      <td>0.000000</td>\n",
       "      <td>0.00000</td>\n",
       "      <td>7.895800</td>\n",
       "    </tr>\n",
       "    <tr>\n",
       "      <th>25%</th>\n",
       "      <td>224.500000</td>\n",
       "      <td>0.000000</td>\n",
       "      <td>2.000000</td>\n",
       "      <td>22.000000</td>\n",
       "      <td>0.000000</td>\n",
       "      <td>0.00000</td>\n",
       "      <td>7.895800</td>\n",
       "    </tr>\n",
       "    <tr>\n",
       "      <th>50%</th>\n",
       "      <td>446.000000</td>\n",
       "      <td>0.000000</td>\n",
       "      <td>3.000000</td>\n",
       "      <td>28.000000</td>\n",
       "      <td>0.000000</td>\n",
       "      <td>0.00000</td>\n",
       "      <td>14.454200</td>\n",
       "    </tr>\n",
       "    <tr>\n",
       "      <th>75%</th>\n",
       "      <td>669.500000</td>\n",
       "      <td>1.000000</td>\n",
       "      <td>3.000000</td>\n",
       "      <td>35.000000</td>\n",
       "      <td>1.000000</td>\n",
       "      <td>0.00000</td>\n",
       "      <td>31.000000</td>\n",
       "    </tr>\n",
       "    <tr>\n",
       "      <th>max</th>\n",
       "      <td>1143.000000</td>\n",
       "      <td>1.000000</td>\n",
       "      <td>3.000000</td>\n",
       "      <td>35.000000</td>\n",
       "      <td>2.000000</td>\n",
       "      <td>5.00000</td>\n",
       "      <td>31.000000</td>\n",
       "    </tr>\n",
       "  </tbody>\n",
       "</table>\n",
       "</div>"
      ],
      "text/plain": [
       "       PassengerId    Survived      Pclass         Age       SibSp      Parch  \\\n",
       "count   891.000000  891.000000  891.000000  891.000000  891.000000  891.00000   \n",
       "mean    447.254770    0.383838    2.308642   28.324355    0.404040    0.37037   \n",
       "std     258.715268    0.486592    0.836071    4.967678    0.640001    0.76861   \n",
       "min     -12.000000    0.000000    1.000000   22.000000    0.000000    0.00000   \n",
       "25%     224.500000    0.000000    2.000000   22.000000    0.000000    0.00000   \n",
       "50%     446.000000    0.000000    3.000000   28.000000    0.000000    0.00000   \n",
       "75%     669.500000    1.000000    3.000000   35.000000    1.000000    0.00000   \n",
       "max    1143.000000    1.000000    3.000000   35.000000    2.000000    5.00000   \n",
       "\n",
       "             Fare  \n",
       "count  891.000000  \n",
       "mean    18.023906  \n",
       "std      9.807991  \n",
       "min      7.895800  \n",
       "25%      7.895800  \n",
       "50%     14.454200  \n",
       "75%     31.000000  \n",
       "max     31.000000  "
      ]
     },
     "execution_count": 54,
     "metadata": {},
     "output_type": "execute_result"
    }
   ],
   "source": [
    "new_dataset.describe()"
   ]
  },
  {
   "cell_type": "markdown",
   "id": "fbb1c329",
   "metadata": {},
   "source": [
    "### Normalization"
   ]
  },
  {
   "cell_type": "code",
   "execution_count": 55,
   "id": "edf20b0d",
   "metadata": {},
   "outputs": [],
   "source": [
    "df_scaled = df2[[\"Survived\",\"Pclass\",\"Age\",\"SibSp\",\"Parch\",\"Fare\"]]"
   ]
  },
  {
   "cell_type": "code",
   "execution_count": 56,
   "id": "ceb55e71",
   "metadata": {
    "scrolled": true
   },
   "outputs": [
    {
     "name": "stdout",
     "output_type": "stream",
     "text": [
      "     Survived  Pclass       Age  SibSp  Parch      Fare\n",
      "0         0.0     1.0  0.000000    0.5    0.0  0.000000\n",
      "1         1.0     0.0  1.000000    0.5    0.0  1.000000\n",
      "2         1.0     1.0  0.307692    0.0    0.0  0.001264\n",
      "3         1.0     0.0  1.000000    0.5    0.0  1.000000\n",
      "4         0.0     1.0  1.000000    0.0    0.0  0.006674\n",
      "..        ...     ...       ...    ...    ...       ...\n",
      "889       1.0     0.0  0.307692    0.0    0.0  0.956718\n",
      "890       0.0     1.0  0.769231    0.0    0.0  0.000000\n",
      "891       1.0     0.0  1.000000    0.5    0.0  1.000000\n",
      "892       1.0     1.0  0.000000    0.5    0.2  0.381065\n",
      "893       0.0     1.0  0.000000    0.0    0.0  0.000000\n",
      "\n",
      "[891 rows x 6 columns]\n"
     ]
    }
   ],
   "source": [
    "# Apply normalization techniques\n",
    "for column in df_scaled.columns:\n",
    "    df_scaled[column] = (df_scaled[column] - df_scaled[column].min()) / (df_scaled[column].max() - df_scaled[column].min())\n",
    "    \n",
    "# view normalization data\n",
    "print(df_scaled)"
   ]
  },
  {
   "cell_type": "code",
   "execution_count": 57,
   "id": "ed8fcfdf",
   "metadata": {},
   "outputs": [
    {
     "data": {
      "image/png": "[encoded data removed]",
      "text/plain": [
       "<Figure size 1200x800 with 6 Axes>"
      ]
     },
     "metadata": {},
     "output_type": "display_data"
    }
   ],
   "source": [
    "df_scaled.hist(bins=25, grid=False, figsize=(12,8), color='#86bf91', zorder=2, rwidth=0.9)\n",
    "plt.show()"
   ]
  },
  {
   "cell_type": "markdown",
   "id": "7d129eef",
   "metadata": {},
   "source": [
    "##### Saving New DataFrame"
   ]
  },
  {
   "cell_type": "code",
   "execution_count": 58,
   "id": "01480ca9",
   "metadata": {},
   "outputs": [],
   "source": [
    "# saving the dataframe\n",
    "new_dataset.to_csv('cleaning.csv')"
   ]
  }
 ],
 "metadata": {
  "kernelspec": {
   "display_name": "Python 3 (ipykernel)",
   "language": "python",
   "name": "python3"
  },
  "language_info": {
   "codemirror_mode": {
    "name": "ipython",
    "version": 3
   },
   "file_extension": ".py",
   "mimetype": "text/x-python",
   "name": "python",
   "nbconvert_exporter": "python",
   "pygments_lexer": "ipython3",
   "version": "3.9.13"
  }
 },
 "nbformat": 4,
 "nbformat_minor": 5
}
