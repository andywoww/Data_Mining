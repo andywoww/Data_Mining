{
 "cells": [
  {
   "cell_type": "markdown",
   "id": "623d5687",
   "metadata": {},
   "source": [
    "# Data Cleaning"
   ]
  },
  {
   "cell_type": "markdown",
   "id": "d202af8e",
   "metadata": {},
   "source": [
    "Today, we will be cleaning up the titanic dataset."
   ]
  },
  {
   "cell_type": "markdown",
   "id": "cef68ce1",
   "metadata": {},
   "source": [
    "## Import Library"
   ]
  },
  {
   "cell_type": "code",
   "execution_count": 1,
   "id": "9b2e4226",
   "metadata": {},
   "outputs": [],
   "source": [
    "# math\n",
    "import numpy as np \n",
    "\n",
    "# data processing\n",
    "import pandas as pd \n",
    "\n",
    "# data visualization\n",
    "import seaborn as sns\n",
    "%matplotlib inline\n",
    "from matplotlib import pyplot as plt\n",
    "from matplotlib import style\n",
    "\n",
    "# Import Warnings\n",
    "import warnings\n",
    "warnings.simplefilter(action=\"ignore\")"
   ]
  },
  {
   "cell_type": "markdown",
   "id": "a2413737",
   "metadata": {},
   "source": [
    "## Import Dataset "
   ]
  },
  {
   "cell_type": "code",
   "execution_count": 2,
   "id": "85dbe935",
   "metadata": {},
   "outputs": [
    {
     "data": {
      "text/html": [
       "<div>\n",
       "<style scoped>\n",
       "    .dataframe tbody tr th:only-of-type {\n",
       "        vertical-align: middle;\n",
       "    }\n",
       "\n",
       "    .dataframe tbody tr th {\n",
       "        vertical-align: top;\n",
       "    }\n",
       "\n",
       "    .dataframe thead th {\n",
       "        text-align: right;\n",
       "    }\n",
       "</style>\n",
       "<table border=\"1\" class=\"dataframe\">\n",
       "  <thead>\n",
       "    <tr style=\"text-align: right;\">\n",
       "      <th></th>\n",
       "      <th>PassengerId</th>\n",
       "      <th>Survived</th>\n",
       "      <th>Pclass</th>\n",
       "      <th>Name</th>\n",
       "      <th>Sex</th>\n",
       "      <th>Age</th>\n",
       "      <th>SibSp</th>\n",
       "      <th>Parch</th>\n",
       "      <th>Ticket</th>\n",
       "      <th>Fare</th>\n",
       "      <th>Cabin</th>\n",
       "      <th>Embarked</th>\n",
       "      <th>ship</th>\n",
       "    </tr>\n",
       "  </thead>\n",
       "  <tbody>\n",
       "    <tr>\n",
       "      <th>0</th>\n",
       "      <td>1</td>\n",
       "      <td>0</td>\n",
       "      <td>3</td>\n",
       "      <td>Braund, Mr. Owen Harris</td>\n",
       "      <td>male</td>\n",
       "      <td>22</td>\n",
       "      <td>1</td>\n",
       "      <td>0</td>\n",
       "      <td>A/5 21171</td>\n",
       "      <td>7,25</td>\n",
       "      <td>NaN</td>\n",
       "      <td>S</td>\n",
       "      <td>Titanic</td>\n",
       "    </tr>\n",
       "    <tr>\n",
       "      <th>1</th>\n",
       "      <td>2</td>\n",
       "      <td>1</td>\n",
       "      <td>1</td>\n",
       "      <td>Cumings, Mrs. John Bradley (Florence Briggs Th...</td>\n",
       "      <td>female</td>\n",
       "      <td>38</td>\n",
       "      <td>1</td>\n",
       "      <td>0</td>\n",
       "      <td>PC 17599</td>\n",
       "      <td>71,2833</td>\n",
       "      <td>C85</td>\n",
       "      <td>C</td>\n",
       "      <td>Titanic</td>\n",
       "    </tr>\n",
       "    <tr>\n",
       "      <th>2</th>\n",
       "      <td>3</td>\n",
       "      <td>1</td>\n",
       "      <td>3</td>\n",
       "      <td>Heikkinen, Miss. Laina</td>\n",
       "      <td>female</td>\n",
       "      <td>26</td>\n",
       "      <td>0</td>\n",
       "      <td>0</td>\n",
       "      <td>STON/O2. 3101282</td>\n",
       "      <td>7,925</td>\n",
       "      <td>NaN</td>\n",
       "      <td>S</td>\n",
       "      <td>Titanic</td>\n",
       "    </tr>\n",
       "  </tbody>\n",
       "</table>\n",
       "</div>"
      ],
      "text/plain": [
       "   PassengerId  Survived Pclass  \\\n",
       "0            1         0      3   \n",
       "1            2         1      1   \n",
       "2            3         1      3   \n",
       "\n",
       "                                                Name     Sex Age  SibSp Parch  \\\n",
       "0                            Braund, Mr. Owen Harris    male  22      1     0   \n",
       "1  Cumings, Mrs. John Bradley (Florence Briggs Th...  female  38      1     0   \n",
       "2                             Heikkinen, Miss. Laina  female  26      0     0   \n",
       "\n",
       "             Ticket     Fare Cabin Embarked     ship  \n",
       "0         A/5 21171     7,25   NaN        S  Titanic  \n",
       "1          PC 17599  71,2833   C85        C  Titanic  \n",
       "2  STON/O2. 3101282    7,925   NaN        S  Titanic  "
      ]
     },
     "execution_count": 2,
     "metadata": {},
     "output_type": "execute_result"
    }
   ],
   "source": [
    "df = pd.read_csv(\"titanic.tsv\", sep='\\t', decimal=',')\n",
    "df.head(3)"
   ]
  },
  {
   "cell_type": "code",
   "execution_count": 3,
   "id": "594cc5bb",
   "metadata": {},
   "outputs": [
    {
     "data": {
      "text/plain": [
       "PassengerId     int64\n",
       "Survived        int64\n",
       "Pclass         object\n",
       "Name           object\n",
       "Sex            object\n",
       "Age            object\n",
       "SibSp           int64\n",
       "Parch          object\n",
       "Ticket         object\n",
       "Fare           object\n",
       "Cabin          object\n",
       "Embarked       object\n",
       "ship           object\n",
       "dtype: object"
      ]
     },
     "execution_count": 3,
     "metadata": {},
     "output_type": "execute_result"
    }
   ],
   "source": [
    "# Checking data types\n",
    "df.dtypes"
   ]
  },
  {
   "cell_type": "markdown",
   "id": "460430d5",
   "metadata": {},
   "source": [
    "As we can see above, several columns do not match the data content. Among them, the Pclass, age, Parch, and Fare columns are of object data type, while the data is numeric. So, we can change it into numeric data types."
   ]
  },
  {
   "cell_type": "code",
   "execution_count": 4,
   "id": "cb69a2f0",
   "metadata": {},
   "outputs": [
    {
     "data": {
      "text/plain": [
       "PassengerId      int64\n",
       "Survived         int64\n",
       "Pclass         float64\n",
       "Name            object\n",
       "Sex             object\n",
       "Age            float64\n",
       "SibSp            int64\n",
       "Parch          float64\n",
       "Ticket          object\n",
       "Fare           float64\n",
       "Cabin           object\n",
       "Embarked        object\n",
       "ship            object\n",
       "dtype: object"
      ]
     },
     "execution_count": 4,
     "metadata": {},
     "output_type": "execute_result"
    }
   ],
   "source": [
    "# Age Column\n",
    "df['Pclass'] = pd.to_numeric(df.Pclass, errors='coerce')\n",
    "\n",
    "# Age Column\n",
    "df['Age'] = pd.to_numeric(df.Age, errors='coerce')\n",
    "\n",
    "# Parch column\n",
    "df['Parch'] = pd.to_numeric(df.Parch, errors='coerce')\n",
    "\n",
    "# Fare Column\n",
    "df['Fare'] = df['Fare'].str.replace(',','.')\n",
    "df['Fare'] = pd.to_numeric(df.Fare, errors='coerce')\n",
    "\n",
    "\n",
    "\n",
    "\n",
    "# Checking data types\n",
    "df.dtypes"
   ]
  },
  {
   "cell_type": "markdown",
   "id": "086c1bb2",
   "metadata": {},
   "source": [
    "Now the table contents and data types are synchronized."
   ]
  },
  {
   "cell_type": "code",
   "execution_count": 5,
   "id": "fa07d770",
   "metadata": {},
   "outputs": [
    {
     "data": {
      "text/html": [
       "<div>\n",
       "<style scoped>\n",
       "    .dataframe tbody tr th:only-of-type {\n",
       "        vertical-align: middle;\n",
       "    }\n",
       "\n",
       "    .dataframe tbody tr th {\n",
       "        vertical-align: top;\n",
       "    }\n",
       "\n",
       "    .dataframe thead th {\n",
       "        text-align: right;\n",
       "    }\n",
       "</style>\n",
       "<table border=\"1\" class=\"dataframe\">\n",
       "  <thead>\n",
       "    <tr style=\"text-align: right;\">\n",
       "      <th></th>\n",
       "      <th>PassengerId</th>\n",
       "      <th>Survived</th>\n",
       "      <th>Pclass</th>\n",
       "      <th>Name</th>\n",
       "      <th>Sex</th>\n",
       "      <th>Age</th>\n",
       "      <th>SibSp</th>\n",
       "      <th>Parch</th>\n",
       "      <th>Ticket</th>\n",
       "      <th>Fare</th>\n",
       "      <th>Cabin</th>\n",
       "      <th>Embarked</th>\n",
       "      <th>ship</th>\n",
       "    </tr>\n",
       "  </thead>\n",
       "  <tbody>\n",
       "    <tr>\n",
       "      <th>0</th>\n",
       "      <td>1</td>\n",
       "      <td>0</td>\n",
       "      <td>3.0</td>\n",
       "      <td>Braund, Mr. Owen Harris</td>\n",
       "      <td>male</td>\n",
       "      <td>22.0</td>\n",
       "      <td>1</td>\n",
       "      <td>0.0</td>\n",
       "      <td>A/5 21171</td>\n",
       "      <td>7.2500</td>\n",
       "      <td>NaN</td>\n",
       "      <td>S</td>\n",
       "      <td>Titanic</td>\n",
       "    </tr>\n",
       "    <tr>\n",
       "      <th>1</th>\n",
       "      <td>2</td>\n",
       "      <td>1</td>\n",
       "      <td>1.0</td>\n",
       "      <td>Cumings, Mrs. John Bradley (Florence Briggs Th...</td>\n",
       "      <td>female</td>\n",
       "      <td>38.0</td>\n",
       "      <td>1</td>\n",
       "      <td>0.0</td>\n",
       "      <td>PC 17599</td>\n",
       "      <td>71.2833</td>\n",
       "      <td>C85</td>\n",
       "      <td>C</td>\n",
       "      <td>Titanic</td>\n",
       "    </tr>\n",
       "    <tr>\n",
       "      <th>2</th>\n",
       "      <td>3</td>\n",
       "      <td>1</td>\n",
       "      <td>3.0</td>\n",
       "      <td>Heikkinen, Miss. Laina</td>\n",
       "      <td>female</td>\n",
       "      <td>26.0</td>\n",
       "      <td>0</td>\n",
       "      <td>0.0</td>\n",
       "      <td>STON/O2. 3101282</td>\n",
       "      <td>7.9250</td>\n",
       "      <td>NaN</td>\n",
       "      <td>S</td>\n",
       "      <td>Titanic</td>\n",
       "    </tr>\n",
       "  </tbody>\n",
       "</table>\n",
       "</div>"
      ],
      "text/plain": [
       "   PassengerId  Survived  Pclass  \\\n",
       "0            1         0     3.0   \n",
       "1            2         1     1.0   \n",
       "2            3         1     3.0   \n",
       "\n",
       "                                                Name     Sex   Age  SibSp  \\\n",
       "0                            Braund, Mr. Owen Harris    male  22.0      1   \n",
       "1  Cumings, Mrs. John Bradley (Florence Briggs Th...  female  38.0      1   \n",
       "2                             Heikkinen, Miss. Laina  female  26.0      0   \n",
       "\n",
       "   Parch            Ticket     Fare Cabin Embarked     ship  \n",
       "0    0.0         A/5 21171   7.2500   NaN        S  Titanic  \n",
       "1    0.0          PC 17599  71.2833   C85        C  Titanic  \n",
       "2    0.0  STON/O2. 3101282   7.9250   NaN        S  Titanic  "
      ]
     },
     "execution_count": 5,
     "metadata": {},
     "output_type": "execute_result"
    }
   ],
   "source": [
    "df.head(3)"
   ]
  },
  {
   "cell_type": "markdown",
   "id": "0101c9ad",
   "metadata": {},
   "source": [
    "## Analysis"
   ]
  },
  {
   "cell_type": "code",
   "execution_count": 6,
   "id": "a0d84a67",
   "metadata": {},
   "outputs": [
    {
     "data": {
      "text/html": [
       "<div>\n",
       "<style scoped>\n",
       "    .dataframe tbody tr th:only-of-type {\n",
       "        vertical-align: middle;\n",
       "    }\n",
       "\n",
       "    .dataframe tbody tr th {\n",
       "        vertical-align: top;\n",
       "    }\n",
       "\n",
       "    .dataframe thead th {\n",
       "        text-align: right;\n",
       "    }\n",
       "</style>\n",
       "<table border=\"1\" class=\"dataframe\">\n",
       "  <thead>\n",
       "    <tr style=\"text-align: right;\">\n",
       "      <th></th>\n",
       "      <th>PassengerId</th>\n",
       "      <th>Survived</th>\n",
       "      <th>Pclass</th>\n",
       "      <th>Age</th>\n",
       "      <th>SibSp</th>\n",
       "      <th>Parch</th>\n",
       "      <th>Fare</th>\n",
       "    </tr>\n",
       "  </thead>\n",
       "  <tbody>\n",
       "    <tr>\n",
       "      <th>count</th>\n",
       "      <td>894.000000</td>\n",
       "      <td>894.000000</td>\n",
       "      <td>894.000000</td>\n",
       "      <td>696.000000</td>\n",
       "      <td>894.000000</td>\n",
       "      <td>893.000000</td>\n",
       "      <td>892.000000</td>\n",
       "    </tr>\n",
       "    <tr>\n",
       "      <th>mean</th>\n",
       "      <td>446.030201</td>\n",
       "      <td>0.381432</td>\n",
       "      <td>2.305369</td>\n",
       "      <td>36.203448</td>\n",
       "      <td>0.604027</td>\n",
       "      <td>0.371781</td>\n",
       "      <td>32.075985</td>\n",
       "    </tr>\n",
       "    <tr>\n",
       "      <th>std</th>\n",
       "      <td>259.208003</td>\n",
       "      <td>0.508529</td>\n",
       "      <td>0.847653</td>\n",
       "      <td>167.817961</td>\n",
       "      <td>2.571231</td>\n",
       "      <td>0.768325</td>\n",
       "      <td>49.868844</td>\n",
       "    </tr>\n",
       "    <tr>\n",
       "      <th>min</th>\n",
       "      <td>-12.000000</td>\n",
       "      <td>-4.000000</td>\n",
       "      <td>-2.000000</td>\n",
       "      <td>-12.000000</td>\n",
       "      <td>0.000000</td>\n",
       "      <td>0.000000</td>\n",
       "      <td>-90.000000</td>\n",
       "    </tr>\n",
       "    <tr>\n",
       "      <th>25%</th>\n",
       "      <td>223.250000</td>\n",
       "      <td>0.000000</td>\n",
       "      <td>2.000000</td>\n",
       "      <td>20.000000</td>\n",
       "      <td>0.000000</td>\n",
       "      <td>0.000000</td>\n",
       "      <td>7.895800</td>\n",
       "    </tr>\n",
       "    <tr>\n",
       "      <th>50%</th>\n",
       "      <td>444.500000</td>\n",
       "      <td>0.000000</td>\n",
       "      <td>3.000000</td>\n",
       "      <td>28.000000</td>\n",
       "      <td>0.000000</td>\n",
       "      <td>0.000000</td>\n",
       "      <td>14.454200</td>\n",
       "    </tr>\n",
       "    <tr>\n",
       "      <th>75%</th>\n",
       "      <td>668.750000</td>\n",
       "      <td>1.000000</td>\n",
       "      <td>3.000000</td>\n",
       "      <td>38.000000</td>\n",
       "      <td>1.000000</td>\n",
       "      <td>0.000000</td>\n",
       "      <td>30.771850</td>\n",
       "    </tr>\n",
       "    <tr>\n",
       "      <th>max</th>\n",
       "      <td>1143.000000</td>\n",
       "      <td>1.000000</td>\n",
       "      <td>3.000000</td>\n",
       "      <td>4435.000000</td>\n",
       "      <td>70.000000</td>\n",
       "      <td>5.000000</td>\n",
       "      <td>512.329200</td>\n",
       "    </tr>\n",
       "  </tbody>\n",
       "</table>\n",
       "</div>"
      ],
      "text/plain": [
       "       PassengerId    Survived      Pclass          Age       SibSp  \\\n",
       "count   894.000000  894.000000  894.000000   696.000000  894.000000   \n",
       "mean    446.030201    0.381432    2.305369    36.203448    0.604027   \n",
       "std     259.208003    0.508529    0.847653   167.817961    2.571231   \n",
       "min     -12.000000   -4.000000   -2.000000   -12.000000    0.000000   \n",
       "25%     223.250000    0.000000    2.000000    20.000000    0.000000   \n",
       "50%     444.500000    0.000000    3.000000    28.000000    0.000000   \n",
       "75%     668.750000    1.000000    3.000000    38.000000    1.000000   \n",
       "max    1143.000000    1.000000    3.000000  4435.000000   70.000000   \n",
       "\n",
       "            Parch        Fare  \n",
       "count  893.000000  892.000000  \n",
       "mean     0.371781   32.075985  \n",
       "std      0.768325   49.868844  \n",
       "min      0.000000  -90.000000  \n",
       "25%      0.000000    7.895800  \n",
       "50%      0.000000   14.454200  \n",
       "75%      0.000000   30.771850  \n",
       "max      5.000000  512.329200  "
      ]
     },
     "execution_count": 6,
     "metadata": {},
     "output_type": "execute_result"
    }
   ],
   "source": [
    "df.describe()"
   ]
  },
  {
   "cell_type": "markdown",
   "id": "e8955c0e",
   "metadata": {},
   "source": [
    "## Checking Dataset Problem"
   ]
  },
  {
   "cell_type": "code",
   "execution_count": 7,
   "id": "dad0f6ab",
   "metadata": {},
   "outputs": [
    {
     "name": "stdout",
     "output_type": "stream",
     "text": [
      "The Dataset : \n"
     ]
    },
    {
     "data": {
      "text/html": [
       "<div>\n",
       "<style scoped>\n",
       "    .dataframe tbody tr th:only-of-type {\n",
       "        vertical-align: middle;\n",
       "    }\n",
       "\n",
       "    .dataframe tbody tr th {\n",
       "        vertical-align: top;\n",
       "    }\n",
       "\n",
       "    .dataframe thead th {\n",
       "        text-align: right;\n",
       "    }\n",
       "</style>\n",
       "<table border=\"1\" class=\"dataframe\">\n",
       "  <thead>\n",
       "    <tr style=\"text-align: right;\">\n",
       "      <th></th>\n",
       "      <th>PassengerId</th>\n",
       "      <th>Survived</th>\n",
       "      <th>Pclass</th>\n",
       "      <th>Name</th>\n",
       "      <th>Sex</th>\n",
       "      <th>Age</th>\n",
       "      <th>SibSp</th>\n",
       "      <th>Parch</th>\n",
       "      <th>Ticket</th>\n",
       "      <th>Fare</th>\n",
       "      <th>Cabin</th>\n",
       "      <th>Embarked</th>\n",
       "      <th>ship</th>\n",
       "    </tr>\n",
       "  </thead>\n",
       "  <tbody>\n",
       "    <tr>\n",
       "      <th>889</th>\n",
       "      <td>890</td>\n",
       "      <td>1</td>\n",
       "      <td>1.0</td>\n",
       "      <td>Behr, Mr. Karl Howell</td>\n",
       "      <td>male</td>\n",
       "      <td>26.0</td>\n",
       "      <td>0</td>\n",
       "      <td>0.0</td>\n",
       "      <td>111369</td>\n",
       "      <td>30.0000</td>\n",
       "      <td>C148</td>\n",
       "      <td>C</td>\n",
       "      <td>Titanic</td>\n",
       "    </tr>\n",
       "    <tr>\n",
       "      <th>890</th>\n",
       "      <td>891</td>\n",
       "      <td>0</td>\n",
       "      <td>3.0</td>\n",
       "      <td>Dooley, Mr. Patrick</td>\n",
       "      <td>male</td>\n",
       "      <td>32.0</td>\n",
       "      <td>0</td>\n",
       "      <td>0.0</td>\n",
       "      <td>370376</td>\n",
       "      <td>7.7500</td>\n",
       "      <td>NaN</td>\n",
       "      <td>Q</td>\n",
       "      <td>Titanic</td>\n",
       "    </tr>\n",
       "    <tr>\n",
       "      <th>891</th>\n",
       "      <td>1000</td>\n",
       "      <td>1</td>\n",
       "      <td>1.0</td>\n",
       "      <td>Mr. Frederick Maxfield Hoyt</td>\n",
       "      <td>male</td>\n",
       "      <td>38.0</td>\n",
       "      <td>1</td>\n",
       "      <td>0.0</td>\n",
       "      <td>19943</td>\n",
       "      <td>90.0000</td>\n",
       "      <td>C93</td>\n",
       "      <td>S</td>\n",
       "      <td>Titanic</td>\n",
       "    </tr>\n",
       "    <tr>\n",
       "      <th>892</th>\n",
       "      <td>1143</td>\n",
       "      <td>1</td>\n",
       "      <td>3.0</td>\n",
       "      <td>Sandstrom, Miss. Marguerite Ru&amp;5$$</td>\n",
       "      <td>female</td>\n",
       "      <td>4.0</td>\n",
       "      <td>1</td>\n",
       "      <td>1.0</td>\n",
       "      <td>PP 9549</td>\n",
       "      <td>16.7000</td>\n",
       "      <td>G6</td>\n",
       "      <td>S</td>\n",
       "      <td>Titanic</td>\n",
       "    </tr>\n",
       "    <tr>\n",
       "      <th>893</th>\n",
       "      <td>-12</td>\n",
       "      <td>0</td>\n",
       "      <td>3.0</td>\n",
       "      <td>Vestrom, Miss. Hulda Amanda Adolfina</td>\n",
       "      <td>female</td>\n",
       "      <td>0.7</td>\n",
       "      <td>0</td>\n",
       "      <td>0.0</td>\n",
       "      <td>350406</td>\n",
       "      <td>7.8542</td>\n",
       "      <td>NaN</td>\n",
       "      <td>S</td>\n",
       "      <td>Titanic</td>\n",
       "    </tr>\n",
       "  </tbody>\n",
       "</table>\n",
       "</div>"
      ],
      "text/plain": [
       "     PassengerId  Survived  Pclass                                  Name  \\\n",
       "889          890         1     1.0                 Behr, Mr. Karl Howell   \n",
       "890          891         0     3.0                   Dooley, Mr. Patrick   \n",
       "891         1000         1     1.0           Mr. Frederick Maxfield Hoyt   \n",
       "892         1143         1     3.0    Sandstrom, Miss. Marguerite Ru&5$$   \n",
       "893          -12         0     3.0  Vestrom, Miss. Hulda Amanda Adolfina   \n",
       "\n",
       "        Sex   Age  SibSp  Parch   Ticket     Fare Cabin Embarked     ship  \n",
       "889    male  26.0      0    0.0   111369  30.0000  C148        C  Titanic  \n",
       "890    male  32.0      0    0.0   370376   7.7500   NaN        Q  Titanic  \n",
       "891    male  38.0      1    0.0    19943  90.0000   C93        S  Titanic  \n",
       "892  female   4.0      1    1.0  PP 9549  16.7000    G6        S  Titanic  \n",
       "893  female   0.7      0    0.0   350406   7.8542   NaN        S  Titanic  "
      ]
     },
     "execution_count": 7,
     "metadata": {},
     "output_type": "execute_result"
    }
   ],
   "source": [
    "print(\"The Dataset : \")\n",
    "df.tail()"
   ]
  },
  {
   "cell_type": "markdown",
   "id": "8eb42dd5",
   "metadata": {},
   "source": [
    "### Column Name"
   ]
  },
  {
   "cell_type": "markdown",
   "id": "c10d18f8",
   "metadata": {},
   "source": [
    "We can see the ship has a small latter, so we change it into capital to make easy in other steps."
   ]
  },
  {
   "cell_type": "code",
   "execution_count": 8,
   "id": "e3df7aae",
   "metadata": {
    "scrolled": true
   },
   "outputs": [
    {
     "data": {
      "text/plain": [
       "PassengerId      int64\n",
       "Survived         int64\n",
       "Pclass         float64\n",
       "Name            object\n",
       "Sex             object\n",
       "Age            float64\n",
       "SibSp            int64\n",
       "Parch          float64\n",
       "Ticket          object\n",
       "Fare           float64\n",
       "Cabin           object\n",
       "Embarked        object\n",
       "Ship            object\n",
       "dtype: object"
      ]
     },
     "execution_count": 8,
     "metadata": {},
     "output_type": "execute_result"
    }
   ],
   "source": [
    "df.rename(columns = {'ship':'Ship'}, inplace = True)\n",
    "df.dtypes"
   ]
  },
  {
   "cell_type": "markdown",
   "id": "39666154",
   "metadata": {},
   "source": [
    "Looks better. Now, let's into another problem."
   ]
  },
  {
   "cell_type": "markdown",
   "id": "d8d20860",
   "metadata": {},
   "source": [
    "### Missing Values"
   ]
  },
  {
   "cell_type": "markdown",
   "id": "d9e36eaf",
   "metadata": {},
   "source": [
    "#### Checking the amount of missing data."
   ]
  },
  {
   "cell_type": "code",
   "execution_count": 9,
   "id": "45d86c6b",
   "metadata": {},
   "outputs": [
    {
     "data": {
      "text/plain": [
       "PassengerId      0\n",
       "Survived         0\n",
       "Pclass           0\n",
       "Name             0\n",
       "Sex              0\n",
       "Age            198\n",
       "SibSp            0\n",
       "Parch            1\n",
       "Ticket           1\n",
       "Fare             2\n",
       "Cabin          686\n",
       "Embarked         2\n",
       "Ship             0\n",
       "dtype: int64"
      ]
     },
     "execution_count": 9,
     "metadata": {},
     "output_type": "execute_result"
    }
   ],
   "source": [
    "df.isnull().sum()"
   ]
  },
  {
   "cell_type": "markdown",
   "id": "53e7a7ba",
   "metadata": {},
   "source": [
    "As we can see, there are some missing values. This will be a problem in itself because there are many of them. We will solve this problem with various techniques."
   ]
  },
  {
   "cell_type": "markdown",
   "id": "606fad26",
   "metadata": {},
   "source": [
    "##### Age Column"
   ]
  },
  {
   "cell_type": "markdown",
   "id": "6c325cbf",
   "metadata": {},
   "source": [
    "In the age table, we will use the median age available in the dataset to fill in the missing values in the age column. This is because the data in the age column can be used for finding the average of the ship's passenger group."
   ]
  },
  {
   "cell_type": "code",
   "execution_count": 10,
   "id": "32a915eb",
   "metadata": {},
   "outputs": [
    {
     "name": "stdout",
     "output_type": "stream",
     "text": [
      "Missing value of the age column solved\n",
      "----------------------------------------------------------------------------------------------------\n",
      "Checking another missing value :\n"
     ]
    },
    {
     "data": {
      "text/plain": [
       "PassengerId      0\n",
       "Survived         0\n",
       "Pclass           0\n",
       "Name             0\n",
       "Sex              0\n",
       "Age            198\n",
       "SibSp            0\n",
       "Parch            1\n",
       "Ticket           1\n",
       "Fare             2\n",
       "Cabin          686\n",
       "Embarked         2\n",
       "Ship             0\n",
       "dtype: int64"
      ]
     },
     "execution_count": 10,
     "metadata": {},
     "output_type": "execute_result"
    }
   ],
   "source": [
    "df['Age'] = df['Age'].fillna(np.median(df['Age']))\n",
    "print(\"Missing value of the age column solved\")\n",
    "print(\"-\" * 100)\n",
    "\n",
    "# Checking another missing value\n",
    "print(\"Checking another missing value :\")\n",
    "df.isnull().sum()"
   ]
  },
  {
   "cell_type": "markdown",
   "id": "1f014756",
   "metadata": {},
   "source": [
    "#### Parch Column"
   ]
  },
  {
   "cell_type": "markdown",
   "id": "a7e40383",
   "metadata": {},
   "source": [
    "In this table, we use the mean value to fill in the missing values because the distribution of the data values is symmetrical, and there are no clear outliers."
   ]
  },
  {
   "cell_type": "code",
   "execution_count": 11,
   "id": "c22767c9",
   "metadata": {
    "scrolled": true
   },
   "outputs": [
    {
     "name": "stdout",
     "output_type": "stream",
     "text": [
      "Missing value of the Parch column solved\n",
      "----------------------------------------------------------------------------------------------------\n",
      "Checking another missing value :\n"
     ]
    },
    {
     "data": {
      "text/plain": [
       "PassengerId      0\n",
       "Survived         0\n",
       "Pclass           0\n",
       "Name             0\n",
       "Sex              0\n",
       "Age            198\n",
       "SibSp            0\n",
       "Parch            0\n",
       "Ticket           1\n",
       "Fare             2\n",
       "Cabin          686\n",
       "Embarked         2\n",
       "Ship             0\n",
       "dtype: int64"
      ]
     },
     "execution_count": 11,
     "metadata": {},
     "output_type": "execute_result"
    }
   ],
   "source": [
    "df['Parch'] = df['Parch'].fillna(np.mean(df['Parch']))\n",
    "print(\"Missing value of the Parch column solved\")\n",
    "print(\"-\" * 100)\n",
    "\n",
    "# Checking another missing value\n",
    "print(\"Checking another missing value :\")\n",
    "df.isnull().sum()"
   ]
  },
  {
   "cell_type": "markdown",
   "id": "edde0946",
   "metadata": {},
   "source": [
    "#### Ticket Column"
   ]
  },
  {
   "cell_type": "markdown",
   "id": "c253c621",
   "metadata": {},
   "source": [
    "Since this table is an object, we use mode to find the most frequent value."
   ]
  },
  {
   "cell_type": "code",
   "execution_count": 12,
   "id": "94900633",
   "metadata": {},
   "outputs": [
    {
     "data": {
      "text/plain": [
       "0        1601\n",
       "1    CA. 2343\n",
       "Name: Ticket, dtype: object"
      ]
     },
     "execution_count": 12,
     "metadata": {},
     "output_type": "execute_result"
    }
   ],
   "source": [
    "df['Ticket'].mode()"
   ]
  },
  {
   "cell_type": "code",
   "execution_count": 13,
   "id": "67eedb51",
   "metadata": {
    "scrolled": true
   },
   "outputs": [
    {
     "name": "stdout",
     "output_type": "stream",
     "text": [
      "Missing value of the ticket column solved\n",
      "----------------------------------------------------------------------------------------------------\n",
      "Checking another missing value :\n"
     ]
    },
    {
     "data": {
      "text/plain": [
       "PassengerId      0\n",
       "Survived         0\n",
       "Pclass           0\n",
       "Name             0\n",
       "Sex              0\n",
       "Age            198\n",
       "SibSp            0\n",
       "Parch            0\n",
       "Ticket           0\n",
       "Fare             2\n",
       "Cabin          686\n",
       "Embarked         2\n",
       "Ship             0\n",
       "dtype: int64"
      ]
     },
     "execution_count": 13,
     "metadata": {},
     "output_type": "execute_result"
    }
   ],
   "source": [
    "df['Ticket'].fillna(df['Ticket'].mode()[0], inplace=True)\n",
    "print(\"Missing value of the ticket column solved\")\n",
    "print(\"-\" * 100)\n",
    "\n",
    "# Checking another missing value\n",
    "print(\"Checking another missing value :\")\n",
    "df.isnull().sum()"
   ]
  },
  {
   "cell_type": "markdown",
   "id": "43e6c1b9",
   "metadata": {},
   "source": [
    "#### Fare Column"
   ]
  },
  {
   "cell_type": "markdown",
   "id": "82689f6f",
   "metadata": {},
   "source": [
    "In this table, we use the mean value to fill in the missing values because the distribution of the data values is symmetrical, and there are no clear outliers."
   ]
  },
  {
   "cell_type": "code",
   "execution_count": 14,
   "id": "df00418e",
   "metadata": {},
   "outputs": [
    {
     "name": "stdout",
     "output_type": "stream",
     "text": [
      "Missing value of the Fare column solved\n",
      "----------------------------------------------------------------------------------------------------\n",
      "Checking another missing value :\n"
     ]
    },
    {
     "data": {
      "text/plain": [
       "PassengerId      0\n",
       "Survived         0\n",
       "Pclass           0\n",
       "Name             0\n",
       "Sex              0\n",
       "Age            198\n",
       "SibSp            0\n",
       "Parch            0\n",
       "Ticket           0\n",
       "Fare             0\n",
       "Cabin          686\n",
       "Embarked         2\n",
       "Ship             0\n",
       "dtype: int64"
      ]
     },
     "execution_count": 14,
     "metadata": {},
     "output_type": "execute_result"
    }
   ],
   "source": [
    "df['Fare'] = df['Fare'].fillna(np.mean(df['Fare']))\n",
    "print(\"Missing value of the Fare column solved\")\n",
    "print(\"-\" * 100)\n",
    "\n",
    "# Checking another missing value\n",
    "print(\"Checking another missing value :\")\n",
    "df.isnull().sum()"
   ]
  },
  {
   "cell_type": "markdown",
   "id": "11855e89",
   "metadata": {},
   "source": [
    "#### Cabin Column"
   ]
  },
  {
   "cell_type": "markdown",
   "id": "42b9abc7",
   "metadata": {},
   "source": [
    "Since this table is an object, we use mode to find the most frequent value."
   ]
  },
  {
   "cell_type": "code",
   "execution_count": 15,
   "id": "f63758bc",
   "metadata": {},
   "outputs": [
    {
     "data": {
      "text/plain": [
       "0    G6\n",
       "Name: Cabin, dtype: object"
      ]
     },
     "execution_count": 15,
     "metadata": {},
     "output_type": "execute_result"
    }
   ],
   "source": [
    "df['Cabin'].mode()"
   ]
  },
  {
   "cell_type": "markdown",
   "id": "c17624a0",
   "metadata": {},
   "source": [
    "Since the most frequent data is G6, the missing value in this table will be G6."
   ]
  },
  {
   "cell_type": "code",
   "execution_count": 16,
   "id": "57224ea6",
   "metadata": {},
   "outputs": [
    {
     "name": "stdout",
     "output_type": "stream",
     "text": [
      "Missing value of the cabin column solved\n",
      "----------------------------------------------------------------------------------------------------\n",
      "Checking another missing value :\n"
     ]
    },
    {
     "data": {
      "text/plain": [
       "PassengerId      0\n",
       "Survived         0\n",
       "Pclass           0\n",
       "Name             0\n",
       "Sex              0\n",
       "Age            198\n",
       "SibSp            0\n",
       "Parch            0\n",
       "Ticket           0\n",
       "Fare             0\n",
       "Cabin            0\n",
       "Embarked         2\n",
       "Ship             0\n",
       "dtype: int64"
      ]
     },
     "execution_count": 16,
     "metadata": {},
     "output_type": "execute_result"
    }
   ],
   "source": [
    "df['Cabin'].fillna(df['Cabin'].mode()[0], inplace=True)\n",
    "print(\"Missing value of the cabin column solved\")\n",
    "print(\"-\" * 100)\n",
    "\n",
    "# Checking another missing value\n",
    "print(\"Checking another missing value :\")\n",
    "df.isnull().sum()"
   ]
  },
  {
   "cell_type": "markdown",
   "id": "bfa4a86c",
   "metadata": {},
   "source": [
    "#### Embarked Column"
   ]
  },
  {
   "cell_type": "markdown",
   "id": "2aa83722",
   "metadata": {},
   "source": [
    "Since this table is an object, we use mode to find the most frequent value"
   ]
  },
  {
   "cell_type": "code",
   "execution_count": 17,
   "id": "059d9ec0",
   "metadata": {},
   "outputs": [
    {
     "data": {
      "text/plain": [
       "0    S\n",
       "Name: Embarked, dtype: object"
      ]
     },
     "execution_count": 17,
     "metadata": {},
     "output_type": "execute_result"
    }
   ],
   "source": [
    "df['Embarked'].mode()"
   ]
  },
  {
   "cell_type": "markdown",
   "id": "4ed85538",
   "metadata": {},
   "source": [
    "Since the most frequent data is \"S\", the missing value in this table will be \"S\"."
   ]
  },
  {
   "cell_type": "code",
   "execution_count": 18,
   "id": "94cb6081",
   "metadata": {
    "scrolled": false
   },
   "outputs": [
    {
     "name": "stdout",
     "output_type": "stream",
     "text": [
      "Missing value of the Embarked column solved\n",
      "----------------------------------------------------------------------------------------------------\n",
      "Checking another missing value :\n"
     ]
    },
    {
     "data": {
      "text/plain": [
       "PassengerId      0\n",
       "Survived         0\n",
       "Pclass           0\n",
       "Name             0\n",
       "Sex              0\n",
       "Age            198\n",
       "SibSp            0\n",
       "Parch            0\n",
       "Ticket           0\n",
       "Fare             0\n",
       "Cabin            0\n",
       "Embarked         0\n",
       "Ship             0\n",
       "dtype: int64"
      ]
     },
     "execution_count": 18,
     "metadata": {},
     "output_type": "execute_result"
    }
   ],
   "source": [
    "df['Embarked'].fillna(df['Embarked'].mode()[0], inplace=True)\n",
    "print(\"Missing value of the Embarked column solved\")\n",
    "print(\"-\" * 100)\n",
    "\n",
    "# Checking another missing value\n",
    "print(\"Checking another missing value :\")\n",
    "df.isnull().sum()"
   ]
  },
  {
   "cell_type": "markdown",
   "id": "f1a7b563",
   "metadata": {},
   "source": [
    "Now, all columns don't have the missing values."
   ]
  },
  {
   "cell_type": "markdown",
   "id": "999e2ccf",
   "metadata": {},
   "source": [
    "### Labelling Dataset Problem"
   ]
  },
  {
   "cell_type": "markdown",
   "id": "8dc952b5",
   "metadata": {},
   "source": [
    "##### Sex Column"
   ]
  },
  {
   "cell_type": "code",
   "execution_count": 19,
   "id": "647d25a0",
   "metadata": {},
   "outputs": [
    {
     "data": {
      "text/plain": [
       "male       575\n",
       "female     310\n",
       "fem          2\n",
       "malef        1\n",
       "mal          1\n",
       "femmale      1\n",
       "feemale      1\n",
       "Female       1\n",
       "malee        1\n",
       "F            1\n",
       "Name: Sex, dtype: int64"
      ]
     },
     "execution_count": 19,
     "metadata": {},
     "output_type": "execute_result"
    }
   ],
   "source": [
    "df['Sex'].value_counts()"
   ]
  },
  {
   "cell_type": "markdown",
   "id": "248b0940",
   "metadata": {},
   "source": [
    "In this gender column, we can see the inconsistency in gender labeling. So we change it to male and female.\n",
    "\n",
    "The labels malef, male, and malee change to male. Then, fem, femmale, feemale, Female, and F change to female. Therefore, this column will only have two labels (male and female)."
   ]
  },
  {
   "cell_type": "code",
   "execution_count": 20,
   "id": "fb909682",
   "metadata": {
    "scrolled": true
   },
   "outputs": [
    {
     "data": {
      "text/plain": [
       "male      578\n",
       "female    316\n",
       "Name: Sex, dtype: int64"
      ]
     },
     "execution_count": 20,
     "metadata": {},
     "output_type": "execute_result"
    }
   ],
   "source": [
    "# Replace the value in columns Sex\n",
    "\n",
    "# male\n",
    "df['Sex'] = df['Sex'].replace(['malef', 'mal', 'malee'], 'male')\n",
    "\n",
    "# female\n",
    "df['Sex'] = df['Sex'].replace(['fem', 'femmale', 'feemale', 'Female','F'], 'female')\n",
    "\n",
    "df['Sex'].value_counts()"
   ]
  },
  {
   "cell_type": "markdown",
   "id": "ee9ad92b",
   "metadata": {},
   "source": [
    "##### Embarked Column"
   ]
  },
  {
   "cell_type": "code",
   "execution_count": 21,
   "id": "1d6f59c4",
   "metadata": {
    "scrolled": true
   },
   "outputs": [
    {
     "data": {
      "text/plain": [
       "S     647\n",
       "C     167\n",
       "Q      76\n",
       "So      2\n",
       "Co      1\n",
       "Qe      1\n",
       "Name: Embarked, dtype: int64"
      ]
     },
     "execution_count": 21,
     "metadata": {},
     "output_type": "execute_result"
    }
   ],
   "source": [
    "df['Embarked'].value_counts()"
   ]
  },
  {
   "cell_type": "markdown",
   "id": "f120bd5c",
   "metadata": {},
   "source": [
    "In this embarked column, we can see the inconsistency in the labeling. So we change it to S, C and Q.\n",
    "\n",
    "So into S\n",
    "Co into Co\n",
    "Qe into Q"
   ]
  },
  {
   "cell_type": "code",
   "execution_count": 22,
   "id": "2fa47190",
   "metadata": {},
   "outputs": [
    {
     "data": {
      "text/plain": [
       "S    649\n",
       "C    168\n",
       "Q     77\n",
       "Name: Embarked, dtype: int64"
      ]
     },
     "execution_count": 22,
     "metadata": {},
     "output_type": "execute_result"
    }
   ],
   "source": [
    "# Replace the value in columns Embarked\n",
    "\n",
    "df['Embarked'] = df['Embarked'].replace(['So'], 'S')\n",
    "df['Embarked'] = df['Embarked'].replace(['Co'], 'C')\n",
    "df['Embarked'] = df['Embarked'].replace(['Qe'], 'Q')\n",
    "\n",
    "df['Embarked'].value_counts()"
   ]
  },
  {
   "cell_type": "markdown",
   "id": "57b9562b",
   "metadata": {},
   "source": [
    "##### Titanic Column"
   ]
  },
  {
   "cell_type": "code",
   "execution_count": 23,
   "id": "ae2fc084",
   "metadata": {},
   "outputs": [
    {
     "data": {
      "text/plain": [
       "Titanic    892\n",
       "Titani       1\n",
       "Titnic       1\n",
       "Name: Ship, dtype: int64"
      ]
     },
     "execution_count": 23,
     "metadata": {},
     "output_type": "execute_result"
    }
   ],
   "source": [
    "df['Ship'].value_counts()"
   ]
  },
  {
   "cell_type": "markdown",
   "id": "a6d24348",
   "metadata": {},
   "source": [
    "As we can see, there are some values. It suppose Titanic. Then, we replace Titani and Titnic to Titanic."
   ]
  },
  {
   "cell_type": "code",
   "execution_count": 24,
   "id": "ae5e7d5b",
   "metadata": {},
   "outputs": [
    {
     "data": {
      "text/plain": [
       "Titanic    894\n",
       "Name: Ship, dtype: int64"
      ]
     },
     "execution_count": 24,
     "metadata": {},
     "output_type": "execute_result"
    }
   ],
   "source": [
    "# Replace the value in columns Embarked\n",
    "\n",
    "df['Ship'] = df['Ship'].replace(['Titani', 'Titnic'], 'Titanic')\n",
    "\n",
    "df['Ship'].value_counts()"
   ]
  },
  {
   "cell_type": "code",
   "execution_count": 25,
   "id": "98cb2d99",
   "metadata": {},
   "outputs": [
    {
     "name": "stdout",
     "output_type": "stream",
     "text": [
      "The Results\n",
      "----------------------------------------------------------------------------------------------------\n"
     ]
    },
    {
     "data": {
      "text/html": [
       "<div>\n",
       "<style scoped>\n",
       "    .dataframe tbody tr th:only-of-type {\n",
       "        vertical-align: middle;\n",
       "    }\n",
       "\n",
       "    .dataframe tbody tr th {\n",
       "        vertical-align: top;\n",
       "    }\n",
       "\n",
       "    .dataframe thead th {\n",
       "        text-align: right;\n",
       "    }\n",
       "</style>\n",
       "<table border=\"1\" class=\"dataframe\">\n",
       "  <thead>\n",
       "    <tr style=\"text-align: right;\">\n",
       "      <th></th>\n",
       "      <th>PassengerId</th>\n",
       "      <th>Survived</th>\n",
       "      <th>Pclass</th>\n",
       "      <th>Name</th>\n",
       "      <th>Sex</th>\n",
       "      <th>Age</th>\n",
       "      <th>SibSp</th>\n",
       "      <th>Parch</th>\n",
       "      <th>Ticket</th>\n",
       "      <th>Fare</th>\n",
       "      <th>Cabin</th>\n",
       "      <th>Embarked</th>\n",
       "      <th>Ship</th>\n",
       "    </tr>\n",
       "  </thead>\n",
       "  <tbody>\n",
       "    <tr>\n",
       "      <th>0</th>\n",
       "      <td>1</td>\n",
       "      <td>0</td>\n",
       "      <td>3.0</td>\n",
       "      <td>Braund, Mr. Owen Harris</td>\n",
       "      <td>male</td>\n",
       "      <td>22.0</td>\n",
       "      <td>1</td>\n",
       "      <td>0.0</td>\n",
       "      <td>A/5 21171</td>\n",
       "      <td>7.2500</td>\n",
       "      <td>G6</td>\n",
       "      <td>S</td>\n",
       "      <td>Titanic</td>\n",
       "    </tr>\n",
       "    <tr>\n",
       "      <th>1</th>\n",
       "      <td>2</td>\n",
       "      <td>1</td>\n",
       "      <td>1.0</td>\n",
       "      <td>Cumings, Mrs. John Bradley (Florence Briggs Th...</td>\n",
       "      <td>female</td>\n",
       "      <td>38.0</td>\n",
       "      <td>1</td>\n",
       "      <td>0.0</td>\n",
       "      <td>PC 17599</td>\n",
       "      <td>71.2833</td>\n",
       "      <td>C85</td>\n",
       "      <td>C</td>\n",
       "      <td>Titanic</td>\n",
       "    </tr>\n",
       "  </tbody>\n",
       "</table>\n",
       "</div>"
      ],
      "text/plain": [
       "   PassengerId  Survived  Pclass  \\\n",
       "0            1         0     3.0   \n",
       "1            2         1     1.0   \n",
       "\n",
       "                                                Name     Sex   Age  SibSp  \\\n",
       "0                            Braund, Mr. Owen Harris    male  22.0      1   \n",
       "1  Cumings, Mrs. John Bradley (Florence Briggs Th...  female  38.0      1   \n",
       "\n",
       "   Parch     Ticket     Fare Cabin Embarked     Ship  \n",
       "0    0.0  A/5 21171   7.2500    G6        S  Titanic  \n",
       "1    0.0   PC 17599  71.2833   C85        C  Titanic  "
      ]
     },
     "execution_count": 25,
     "metadata": {},
     "output_type": "execute_result"
    }
   ],
   "source": [
    "print(\"The Results\")\n",
    "print(\"-\" * 100)\n",
    "df.head(2)"
   ]
  },
  {
   "cell_type": "markdown",
   "id": "37d215d2",
   "metadata": {},
   "source": [
    "### Outlier Detection"
   ]
  },
  {
   "cell_type": "code",
   "execution_count": 26,
   "id": "2d7cf3df",
   "metadata": {},
   "outputs": [
    {
     "data": {
      "text/html": [
       "<div>\n",
       "<style scoped>\n",
       "    .dataframe tbody tr th:only-of-type {\n",
       "        vertical-align: middle;\n",
       "    }\n",
       "\n",
       "    .dataframe tbody tr th {\n",
       "        vertical-align: top;\n",
       "    }\n",
       "\n",
       "    .dataframe thead th {\n",
       "        text-align: right;\n",
       "    }\n",
       "</style>\n",
       "<table border=\"1\" class=\"dataframe\">\n",
       "  <thead>\n",
       "    <tr style=\"text-align: right;\">\n",
       "      <th></th>\n",
       "      <th>PassengerId</th>\n",
       "      <th>Survived</th>\n",
       "      <th>Pclass</th>\n",
       "      <th>Age</th>\n",
       "      <th>SibSp</th>\n",
       "      <th>Parch</th>\n",
       "      <th>Fare</th>\n",
       "    </tr>\n",
       "  </thead>\n",
       "  <tbody>\n",
       "    <tr>\n",
       "      <th>count</th>\n",
       "      <td>894.000000</td>\n",
       "      <td>894.000000</td>\n",
       "      <td>894.000000</td>\n",
       "      <td>696.000000</td>\n",
       "      <td>894.000000</td>\n",
       "      <td>894.000000</td>\n",
       "      <td>894.000000</td>\n",
       "    </tr>\n",
       "    <tr>\n",
       "      <th>mean</th>\n",
       "      <td>446.030201</td>\n",
       "      <td>0.381432</td>\n",
       "      <td>2.305369</td>\n",
       "      <td>36.203448</td>\n",
       "      <td>0.604027</td>\n",
       "      <td>0.371781</td>\n",
       "      <td>32.075985</td>\n",
       "    </tr>\n",
       "    <tr>\n",
       "      <th>std</th>\n",
       "      <td>259.208003</td>\n",
       "      <td>0.508529</td>\n",
       "      <td>0.847653</td>\n",
       "      <td>167.817961</td>\n",
       "      <td>2.571231</td>\n",
       "      <td>0.767895</td>\n",
       "      <td>49.812969</td>\n",
       "    </tr>\n",
       "    <tr>\n",
       "      <th>min</th>\n",
       "      <td>-12.000000</td>\n",
       "      <td>-4.000000</td>\n",
       "      <td>-2.000000</td>\n",
       "      <td>-12.000000</td>\n",
       "      <td>0.000000</td>\n",
       "      <td>0.000000</td>\n",
       "      <td>-90.000000</td>\n",
       "    </tr>\n",
       "    <tr>\n",
       "      <th>25%</th>\n",
       "      <td>223.250000</td>\n",
       "      <td>0.000000</td>\n",
       "      <td>2.000000</td>\n",
       "      <td>20.000000</td>\n",
       "      <td>0.000000</td>\n",
       "      <td>0.000000</td>\n",
       "      <td>7.903100</td>\n",
       "    </tr>\n",
       "    <tr>\n",
       "      <th>50%</th>\n",
       "      <td>444.500000</td>\n",
       "      <td>0.000000</td>\n",
       "      <td>3.000000</td>\n",
       "      <td>28.000000</td>\n",
       "      <td>0.000000</td>\n",
       "      <td>0.000000</td>\n",
       "      <td>14.454200</td>\n",
       "    </tr>\n",
       "    <tr>\n",
       "      <th>75%</th>\n",
       "      <td>668.750000</td>\n",
       "      <td>1.000000</td>\n",
       "      <td>3.000000</td>\n",
       "      <td>38.000000</td>\n",
       "      <td>1.000000</td>\n",
       "      <td>0.000000</td>\n",
       "      <td>31.000000</td>\n",
       "    </tr>\n",
       "    <tr>\n",
       "      <th>max</th>\n",
       "      <td>1143.000000</td>\n",
       "      <td>1.000000</td>\n",
       "      <td>3.000000</td>\n",
       "      <td>4435.000000</td>\n",
       "      <td>70.000000</td>\n",
       "      <td>5.000000</td>\n",
       "      <td>512.329200</td>\n",
       "    </tr>\n",
       "  </tbody>\n",
       "</table>\n",
       "</div>"
      ],
      "text/plain": [
       "       PassengerId    Survived      Pclass          Age       SibSp  \\\n",
       "count   894.000000  894.000000  894.000000   696.000000  894.000000   \n",
       "mean    446.030201    0.381432    2.305369    36.203448    0.604027   \n",
       "std     259.208003    0.508529    0.847653   167.817961    2.571231   \n",
       "min     -12.000000   -4.000000   -2.000000   -12.000000    0.000000   \n",
       "25%     223.250000    0.000000    2.000000    20.000000    0.000000   \n",
       "50%     444.500000    0.000000    3.000000    28.000000    0.000000   \n",
       "75%     668.750000    1.000000    3.000000    38.000000    1.000000   \n",
       "max    1143.000000    1.000000    3.000000  4435.000000   70.000000   \n",
       "\n",
       "            Parch        Fare  \n",
       "count  894.000000  894.000000  \n",
       "mean     0.371781   32.075985  \n",
       "std      0.767895   49.812969  \n",
       "min      0.000000  -90.000000  \n",
       "25%      0.000000    7.903100  \n",
       "50%      0.000000   14.454200  \n",
       "75%      0.000000   31.000000  \n",
       "max      5.000000  512.329200  "
      ]
     },
     "execution_count": 26,
     "metadata": {},
     "output_type": "execute_result"
    }
   ],
   "source": [
    "# analysis\n",
    "df.describe()"
   ]
  },
  {
   "cell_type": "markdown",
   "id": "5cc18f23",
   "metadata": {},
   "source": [
    "##### Column Survived"
   ]
  },
  {
   "cell_type": "code",
   "execution_count": 27,
   "id": "efb3c8d5",
   "metadata": {},
   "outputs": [
    {
     "data": {
      "image/png": "[encoded data removed]",
      "text/plain": [
       "<Figure size 640x480 with 1 Axes>"
      ]
     },
     "metadata": {},
     "output_type": "display_data"
    }
   ],
   "source": [
    "# Outliers Detection\n",
    "\n",
    "sns.boxplot(x=df['Survived'])\n",
    "plt.show()"
   ]
  },
  {
   "cell_type": "code",
   "execution_count": 28,
   "id": "b4c3024b",
   "metadata": {},
   "outputs": [
    {
     "data": {
      "text/plain": [
       " 0    548\n",
       " 1    345\n",
       "-4      1\n",
       "Name: Survived, dtype: int64"
      ]
     },
     "execution_count": 28,
     "metadata": {},
     "output_type": "execute_result"
    }
   ],
   "source": [
    "# Column Survived\n",
    "df['Survived'].value_counts()"
   ]
  },
  {
   "cell_type": "markdown",
   "id": "b6ba5f09",
   "metadata": {},
   "source": [
    "In survived columns, the minimum value is -4, and the maximum is 1, but we can see this column has a mean value bigger than zero. So, we will change -4 into 0 since it is below the mean value."
   ]
  },
  {
   "cell_type": "markdown",
   "id": "deeb65a5",
   "metadata": {},
   "source": [
    "Only one data has -4. Now, we replace it into 0. Hence, the survived column only has two values (0 and 1)."
   ]
  },
  {
   "cell_type": "code",
   "execution_count": 29,
   "id": "3e261e78",
   "metadata": {},
   "outputs": [
    {
     "data": {
      "text/plain": [
       "0    549\n",
       "1    345\n",
       "Name: Survived, dtype: int64"
      ]
     },
     "execution_count": 29,
     "metadata": {},
     "output_type": "execute_result"
    }
   ],
   "source": [
    "# Replace the value in columns Survived\n",
    "df['Survived'] = df['Survived'].replace([-4], 0)\n",
    "df['Survived'].value_counts()"
   ]
  },
  {
   "cell_type": "code",
   "execution_count": 30,
   "id": "1eb6928f",
   "metadata": {},
   "outputs": [
    {
     "data": {
      "image/png": "[encoded data removed]",
      "text/plain": [
       "<Figure size 640x480 with 1 Axes>"
      ]
     },
     "metadata": {},
     "output_type": "display_data"
    }
   ],
   "source": [
    "# Outliers Detection\n",
    "\n",
    "sns.boxplot(x=df['Survived'])\n",
    "plt.show()"
   ]
  },
  {
   "cell_type": "markdown",
   "id": "54170b3f",
   "metadata": {},
   "source": [
    "##### Column Pclass"
   ]
  },
  {
   "cell_type": "markdown",
   "id": "4bc7378d",
   "metadata": {},
   "source": [
    "Pclass column has a mean value bigger than 0, but it has a minimum value of -2, which is lower than the mean value. Let's look at the values."
   ]
  },
  {
   "cell_type": "code",
   "execution_count": 31,
   "id": "16da07cc",
   "metadata": {},
   "outputs": [
    {
     "data": {
      "image/png": "[encoded data removed]",
      "text/plain": [
       "<Figure size 640x480 with 1 Axes>"
      ]
     },
     "metadata": {},
     "output_type": "display_data"
    }
   ],
   "source": [
    "# Outliers Detection\n",
    "\n",
    "sns.boxplot(x=df['Pclass'])\n",
    "plt.show()"
   ]
  },
  {
   "cell_type": "code",
   "execution_count": 32,
   "id": "65a5f9f7",
   "metadata": {},
   "outputs": [
    {
     "data": {
      "text/plain": [
       " 3.0    493\n",
       " 1.0    216\n",
       " 2.0    184\n",
       "-2.0      1\n",
       "Name: Pclass, dtype: int64"
      ]
     },
     "execution_count": 32,
     "metadata": {},
     "output_type": "execute_result"
    }
   ],
   "source": [
    "df['Pclass'].value_counts()"
   ]
  },
  {
   "cell_type": "markdown",
   "id": "35bf746b",
   "metadata": {},
   "source": [
    "As we can see, only 1 data has -2.0. We can replace it with a minimum value (1) because it is also lower than the mean value. Then, this column will have three values (3.0, 2.0, and 1.0)."
   ]
  },
  {
   "cell_type": "code",
   "execution_count": 33,
   "id": "bf92efcb",
   "metadata": {
    "scrolled": true
   },
   "outputs": [
    {
     "data": {
      "text/plain": [
       "3.0    493\n",
       "1.0    217\n",
       "2.0    184\n",
       "Name: Pclass, dtype: int64"
      ]
     },
     "execution_count": 33,
     "metadata": {},
     "output_type": "execute_result"
    }
   ],
   "source": [
    "df['Pclass'] = df['Pclass'].replace([-2], 1)\n",
    "df['Pclass'].value_counts()"
   ]
  },
  {
   "cell_type": "code",
   "execution_count": 34,
   "id": "efcab87c",
   "metadata": {},
   "outputs": [
    {
     "name": "stdout",
     "output_type": "stream",
     "text": [
      "The Results\n",
      "----------------------------------------------------------------------------------------------------\n"
     ]
    },
    {
     "data": {
      "image/png": "[encoded data removed]",
      "text/plain": [
       "<Figure size 640x480 with 1 Axes>"
      ]
     },
     "metadata": {},
     "output_type": "display_data"
    }
   ],
   "source": [
    "print(\"The Results\")\n",
    "print(\"-\" * 100)\n",
    "\n",
    "# Outliers Detection\n",
    "\n",
    "sns.boxplot(x=df['Pclass'])\n",
    "plt.show()"
   ]
  },
  {
   "cell_type": "markdown",
   "id": "1598c546",
   "metadata": {},
   "source": [
    "##### Column Age"
   ]
  },
  {
   "cell_type": "markdown",
   "id": "58e5a39c",
   "metadata": {},
   "source": [
    "The age column has significant data inequality with a minimum value of -2 and a maximum of more than 4,000. Meanwhile, the mean value of the age column is 36.20."
   ]
  },
  {
   "cell_type": "code",
   "execution_count": 35,
   "id": "d9dd5cba",
   "metadata": {
    "scrolled": false
   },
   "outputs": [
    {
     "data": {
      "text/plain": [
       " 24.0      30\n",
       " 22.0      27\n",
       " 18.0      26\n",
       " 19.0      25\n",
       " 28.0      24\n",
       "           ..\n",
       "-3.0        1\n",
       " 4435.0     1\n",
       " 66.0       1\n",
       " 12.0       1\n",
       " 0.7        1\n",
       "Name: Age, Length: 76, dtype: int64"
      ]
     },
     "execution_count": 35,
     "metadata": {},
     "output_type": "execute_result"
    }
   ],
   "source": [
    "df['Age'].value_counts()"
   ]
  },
  {
   "cell_type": "code",
   "execution_count": 36,
   "id": "633825e7",
   "metadata": {},
   "outputs": [
    {
     "data": {
      "image/png": "[encoded data removed]",
      "text/plain": [
       "<Figure size 640x480 with 1 Axes>"
      ]
     },
     "metadata": {},
     "output_type": "display_data"
    }
   ],
   "source": [
    "# Outliers Detection\n",
    "\n",
    "sns.boxplot(x=df['Age'])\n",
    "plt.show()"
   ]
  },
  {
   "cell_type": "markdown",
   "id": "4517a2f2",
   "metadata": {},
   "source": [
    "Because age has a varied range, we choose the Winsorizing to replace with other values. Common is replacing the outliers on th upper side with 75% percentile value and outlier on the lower side with 25% percentile."
   ]
  },
  {
   "cell_type": "code",
   "execution_count": 37,
   "id": "c0dfcdd4",
   "metadata": {},
   "outputs": [],
   "source": [
    "from scipy.stats.mstats import winsorize\n",
    "from scipy.stats import mstats\n",
    "\n",
    "df['Age'] = winsorize(df['Age'], limits = 0.25)"
   ]
  },
  {
   "cell_type": "markdown",
   "id": "0a8aed1b",
   "metadata": {},
   "source": [
    "Check the Result"
   ]
  },
  {
   "cell_type": "code",
   "execution_count": 38,
   "id": "37f0fa5b",
   "metadata": {},
   "outputs": [
    {
     "data": {
      "image/png": "[encoded data removed]",
      "text/plain": [
       "<Figure size 640x480 with 1 Axes>"
      ]
     },
     "metadata": {},
     "output_type": "display_data"
    }
   ],
   "source": [
    "# Outliers Detection\n",
    "\n",
    "sns.boxplot(x=df['Age'])\n",
    "plt.show()"
   ]
  },
  {
   "cell_type": "markdown",
   "id": "fd565db8",
   "metadata": {},
   "source": [
    "##### SibSp Column"
   ]
  },
  {
   "cell_type": "markdown",
   "id": "f8421ed8",
   "metadata": {},
   "source": [
    "In this column, the maximum value is 70.00, and the minimum value is 0, but we can see this column has a mean value more than zero. Because this column has a gap in data, we decide to use the Winsorize again."
   ]
  },
  {
   "cell_type": "code",
   "execution_count": 39,
   "id": "88f14757",
   "metadata": {
    "scrolled": false
   },
   "outputs": [
    {
     "data": {
      "image/png": "[encoded data removed]",
      "text/plain": [
       "<Figure size 640x480 with 1 Axes>"
      ]
     },
     "metadata": {},
     "output_type": "display_data"
    }
   ],
   "source": [
    "# Outliers Detection\n",
    "\n",
    "sns.boxplot(x=df['SibSp'])\n",
    "plt.show()"
   ]
  },
  {
   "cell_type": "code",
   "execution_count": 40,
   "id": "c5d2b63f",
   "metadata": {
    "scrolled": true
   },
   "outputs": [
    {
     "data": {
      "text/plain": [
       "0     606\n",
       "1     213\n",
       "2      28\n",
       "4      18\n",
       "3      16\n",
       "8       7\n",
       "5       5\n",
       "70      1\n",
       "Name: SibSp, dtype: int64"
      ]
     },
     "execution_count": 40,
     "metadata": {},
     "output_type": "execute_result"
    }
   ],
   "source": [
    "df['SibSp'].value_counts()"
   ]
  },
  {
   "cell_type": "markdown",
   "id": "4cc304fb",
   "metadata": {},
   "source": [
    "As we can there a lot of range data, the standar deviation is only 2, so we change the values which are bigger than 2 into two and below to 0 into 0."
   ]
  },
  {
   "cell_type": "code",
   "execution_count": 41,
   "id": "ce81ed59",
   "metadata": {},
   "outputs": [
    {
     "data": {
      "text/plain": [
       "0    606\n",
       "1    213\n",
       "2     75\n",
       "Name: SibSp, dtype: int64"
      ]
     },
     "execution_count": 41,
     "metadata": {},
     "output_type": "execute_result"
    }
   ],
   "source": [
    "df['SibSp'] = df['SibSp'].replace([70, 5, 8, 3, 4], 2)\n",
    "df['SibSp'].value_counts()"
   ]
  },
  {
   "cell_type": "code",
   "execution_count": 42,
   "id": "0f8e1db7",
   "metadata": {
    "scrolled": false
   },
   "outputs": [
    {
     "name": "stdout",
     "output_type": "stream",
     "text": [
      "Check the result\n"
     ]
    },
    {
     "data": {
      "image/png": "[encoded data removed]",
      "text/plain": [
       "<Figure size 640x480 with 1 Axes>"
      ]
     },
     "metadata": {},
     "output_type": "display_data"
    }
   ],
   "source": [
    "print(\"Check the result\")\n",
    "\n",
    "# Outliers Detection\n",
    "\n",
    "sns.boxplot(x=df['SibSp'])\n",
    "plt.show()"
   ]
  },
  {
   "cell_type": "markdown",
   "id": "52e0d043",
   "metadata": {},
   "source": [
    "Looks nice"
   ]
  },
  {
   "cell_type": "markdown",
   "id": "39131c95",
   "metadata": {},
   "source": [
    "#### Parch Column"
   ]
  },
  {
   "cell_type": "markdown",
   "id": "aa0ae637",
   "metadata": {},
   "source": [
    "In this column, the maximum value is bigger than 4000, while the minimum value is -12, but we can see this column has a mean value equal 36. Because this column has a gap in data, we decide to use the Winisorizing again."
   ]
  },
  {
   "cell_type": "code",
   "execution_count": 43,
   "id": "b0ca2654",
   "metadata": {
    "scrolled": false
   },
   "outputs": [
    {
     "name": "stdout",
     "output_type": "stream",
     "text": [
      "Checking Outlier\n"
     ]
    },
    {
     "data": {
      "image/png": "[encoded data removed]",
      "text/plain": [
       "<Figure size 640x480 with 1 Axes>"
      ]
     },
     "metadata": {},
     "output_type": "display_data"
    }
   ],
   "source": [
    "# Outliers Detection\n",
    "\n",
    "print(\"Checking Outlier\")\n",
    "sns.boxplot(x=df['Parch'])\n",
    "plt.show()"
   ]
  },
  {
   "cell_type": "code",
   "execution_count": 44,
   "id": "97e11e97",
   "metadata": {},
   "outputs": [
    {
     "data": {
      "text/plain": [
       "0.000000    679\n",
       "1.000000    121\n",
       "2.000000     80\n",
       "3.000000      5\n",
       "5.000000      4\n",
       "4.000000      4\n",
       "0.371781      1\n",
       "Name: Parch, dtype: int64"
      ]
     },
     "execution_count": 44,
     "metadata": {},
     "output_type": "execute_result"
    }
   ],
   "source": [
    "# Checking the values\n",
    "df['Parch'].value_counts()"
   ]
  },
  {
   "cell_type": "markdown",
   "id": "474f6bac",
   "metadata": {},
   "source": [
    "Because Parch has a varied range, we choose the Winsorizing to replace with other values. Common is replacing the outliers on th upper side with 75% percentile value and outlier on the lower side with 25% percentile."
   ]
  },
  {
   "cell_type": "code",
   "execution_count": 45,
   "id": "2b1caeb4",
   "metadata": {},
   "outputs": [
    {
     "name": "stdout",
     "output_type": "stream",
     "text": [
      "Check the result\n"
     ]
    },
    {
     "data": {
      "image/png": "[encoded data removed]",
      "text/plain": [
       "<Figure size 640x480 with 1 Axes>"
      ]
     },
     "metadata": {},
     "output_type": "display_data"
    }
   ],
   "source": [
    "df['Parch'] = winsorize(df['Parch'], limits = 0.25)\n",
    "\n",
    "print(\"Check the result\")\n",
    "\n",
    "# Outliers Detection\n",
    "\n",
    "sns.boxplot(x=df['Parch'])\n",
    "plt.show()"
   ]
  },
  {
   "cell_type": "markdown",
   "id": "922e53dd",
   "metadata": {},
   "source": [
    "##### Fare Column"
   ]
  },
  {
   "cell_type": "markdown",
   "id": "65d7d281",
   "metadata": {},
   "source": [
    "In this column, the maximum value is bigger than 4000, while the minimum value is -12, but we can see this column has a mean value equal 36. Because this column has a gap in data, we decide to use the Wonorize again."
   ]
  },
  {
   "cell_type": "code",
   "execution_count": 46,
   "id": "e43a25db",
   "metadata": {},
   "outputs": [
    {
     "name": "stdout",
     "output_type": "stream",
     "text": [
      "Checking Outlier\n"
     ]
    },
    {
     "data": {
      "image/png": "[encoded data removed]",
      "text/plain": [
       "<Figure size 640x480 with 1 Axes>"
      ]
     },
     "metadata": {},
     "output_type": "display_data"
    }
   ],
   "source": [
    "# Outliers Detection\n",
    "\n",
    "print(\"Checking Outlier\")\n",
    "sns.boxplot(x=df['Fare'])\n",
    "plt.show()"
   ]
  },
  {
   "cell_type": "code",
   "execution_count": 47,
   "id": "c6dfd60f",
   "metadata": {
    "scrolled": true
   },
   "outputs": [
    {
     "data": {
      "text/plain": [
       "8.0500     43\n",
       "13.0000    42\n",
       "7.8958     38\n",
       "7.7500     34\n",
       "26.0000    31\n",
       "           ..\n",
       "28.5000     1\n",
       "6.2375      1\n",
       "14.0000     1\n",
       "9.4750      1\n",
       "10.5167     1\n",
       "Name: Fare, Length: 250, dtype: int64"
      ]
     },
     "execution_count": 47,
     "metadata": {},
     "output_type": "execute_result"
    }
   ],
   "source": [
    "df['Fare'].value_counts()"
   ]
  },
  {
   "cell_type": "markdown",
   "id": "8e0a432e",
   "metadata": {},
   "source": [
    "Because Fare has a varied range, we choose the Winsorizing to replace with other values. Common is replacing the outliers on th upper side with 75% percentile value and outlier on the lower side with 25% percentile."
   ]
  },
  {
   "cell_type": "code",
   "execution_count": 48,
   "id": "7a0a6662",
   "metadata": {},
   "outputs": [
    {
     "name": "stdout",
     "output_type": "stream",
     "text": [
      "Check the result\n"
     ]
    },
    {
     "data": {
      "image/png": "[encoded data removed]",
      "text/plain": [
       "<Figure size 640x480 with 1 Axes>"
      ]
     },
     "metadata": {},
     "output_type": "display_data"
    }
   ],
   "source": [
    "df['Fare'] = winsorize(df['Fare'], limits = 0.25)\n",
    "\n",
    "print(\"Check the result\")\n",
    "\n",
    "# Outliers Detection\n",
    "\n",
    "sns.boxplot(x=df['Fare'])\n",
    "plt.show()"
   ]
  },
  {
   "cell_type": "markdown",
   "id": "db0b23f3",
   "metadata": {},
   "source": [
    "### Data Duplicated"
   ]
  },
  {
   "cell_type": "code",
   "execution_count": 49,
   "id": "a681ff3e",
   "metadata": {
    "scrolled": false
   },
   "outputs": [
    {
     "name": "stdout",
     "output_type": "stream",
     "text": [
      "     PassengerId  Survived  Pclass                                Name  \\\n",
      "13            11         1     3.0  Sandstrom, Miss. Marguerite Ru&5$$   \n",
      "23            11         1     3.0  Sandstrom, Miss. Marguerite Ru&5$$   \n",
      "520          225         1     1.0        Hoyt, Mr. Frederick Maxfield   \n",
      "\n",
      "        Sex   Age  SibSp  Parch   Ticket  Fare Cabin Embarked     Ship  \n",
      "13   female  22.0      1    0.0  PP 9549  16.7    G6        S  Titanic  \n",
      "23   female  22.0      1    0.0  PP 9549  16.7    G6        S  Titanic  \n",
      "520    male  38.0      1    0.0    19943  31.0   C93        S  Titanic  \n"
     ]
    }
   ],
   "source": [
    "#identify duplicate rows\n",
    "duplicateRows = df[df.duplicated()]\n",
    "print(duplicateRows)"
   ]
  },
  {
   "cell_type": "markdown",
   "id": "139370e9",
   "metadata": {},
   "source": [
    "As we can see, there are some duplicated data. We decide to keep the first row and drop another duplicated rows."
   ]
  },
  {
   "cell_type": "code",
   "execution_count": 50,
   "id": "6a092c74",
   "metadata": {},
   "outputs": [
    {
     "name": "stdout",
     "output_type": "stream",
     "text": [
      "     PassengerId  Survived  Pclass  \\\n",
      "0              1         0     3.0   \n",
      "1              2         1     1.0   \n",
      "2              3         1     3.0   \n",
      "3              4         1     1.0   \n",
      "4              5         0     3.0   \n",
      "..           ...       ...     ...   \n",
      "889          890         1     1.0   \n",
      "890          891         0     3.0   \n",
      "891         1000         1     1.0   \n",
      "892         1143         1     3.0   \n",
      "893          -12         0     3.0   \n",
      "\n",
      "                                                  Name     Sex   Age  SibSp  \\\n",
      "0                              Braund, Mr. Owen Harris    male  22.0      1   \n",
      "1    Cumings, Mrs. John Bradley (Florence Briggs Th...  female  38.0      1   \n",
      "2                               Heikkinen, Miss. Laina  female  26.0      0   \n",
      "3         Futrelle, Mrs. Jacques Heath (Lily May Peel)  female  35.0      1   \n",
      "4                             Allen, Mr. William Henry    male  35.0      0   \n",
      "..                                                 ...     ...   ...    ...   \n",
      "889                              Behr, Mr. Karl Howell    male  26.0      0   \n",
      "890                                Dooley, Mr. Patrick    male  32.0      0   \n",
      "891                        Mr. Frederick Maxfield Hoyt    male  38.0      1   \n",
      "892                 Sandstrom, Miss. Marguerite Ru&5$$  female  22.0      1   \n",
      "893               Vestrom, Miss. Hulda Amanda Adolfina  female  22.0      0   \n",
      "\n",
      "     Parch            Ticket     Fare Cabin Embarked     Ship  \n",
      "0      0.0         A/5 21171   7.8958    G6        S  Titanic  \n",
      "1      0.0          PC 17599  31.0000   C85        C  Titanic  \n",
      "2      0.0  STON/O2. 3101282   7.9250    G6        S  Titanic  \n",
      "3      0.0            113803  31.0000  C123        S  Titanic  \n",
      "4      0.0            373450   8.0500    G6        S  Titanic  \n",
      "..     ...               ...      ...   ...      ...      ...  \n",
      "889    0.0            111369  30.0000  C148        C  Titanic  \n",
      "890    0.0            370376   7.8958    G6        Q  Titanic  \n",
      "891    0.0             19943  31.0000   C93        S  Titanic  \n",
      "892    0.0           PP 9549  16.7000    G6        S  Titanic  \n",
      "893    0.0            350406   7.8958    G6        S  Titanic  \n",
      "\n",
      "[891 rows x 13 columns]\n"
     ]
    }
   ],
   "source": [
    "# Using DataFrame.drop_duplicates() to keep first duplicate row\n",
    "df2 = df.drop_duplicates(keep='first')\n",
    "print(df2)"
   ]
  },
  {
   "cell_type": "markdown",
   "id": "ea1a47ac",
   "metadata": {},
   "source": [
    "## Result"
   ]
  },
  {
   "cell_type": "code",
   "execution_count": 51,
   "id": "c83a36f4",
   "metadata": {},
   "outputs": [
    {
     "data": {
      "text/html": [
       "<div>\n",
       "<style scoped>\n",
       "    .dataframe tbody tr th:only-of-type {\n",
       "        vertical-align: middle;\n",
       "    }\n",
       "\n",
       "    .dataframe tbody tr th {\n",
       "        vertical-align: top;\n",
       "    }\n",
       "\n",
       "    .dataframe thead th {\n",
       "        text-align: right;\n",
       "    }\n",
       "</style>\n",
       "<table border=\"1\" class=\"dataframe\">\n",
       "  <thead>\n",
       "    <tr style=\"text-align: right;\">\n",
       "      <th></th>\n",
       "      <th>PassengerId</th>\n",
       "      <th>Survived</th>\n",
       "      <th>Pclass</th>\n",
       "      <th>Name</th>\n",
       "      <th>Sex</th>\n",
       "      <th>Age</th>\n",
       "      <th>SibSp</th>\n",
       "      <th>Parch</th>\n",
       "      <th>Ticket</th>\n",
       "      <th>Fare</th>\n",
       "      <th>Cabin</th>\n",
       "      <th>Embarked</th>\n",
       "      <th>Ship</th>\n",
       "    </tr>\n",
       "  </thead>\n",
       "  <tbody>\n",
       "    <tr>\n",
       "      <th>0</th>\n",
       "      <td>1</td>\n",
       "      <td>0</td>\n",
       "      <td>3.0</td>\n",
       "      <td>Braund, Mr. Owen Harris</td>\n",
       "      <td>male</td>\n",
       "      <td>22.0</td>\n",
       "      <td>1</td>\n",
       "      <td>0.0</td>\n",
       "      <td>A/5 21171</td>\n",
       "      <td>7.8958</td>\n",
       "      <td>G6</td>\n",
       "      <td>S</td>\n",
       "      <td>Titanic</td>\n",
       "    </tr>\n",
       "    <tr>\n",
       "      <th>1</th>\n",
       "      <td>2</td>\n",
       "      <td>1</td>\n",
       "      <td>1.0</td>\n",
       "      <td>Cumings, Mrs. John Bradley (Florence Briggs Th...</td>\n",
       "      <td>female</td>\n",
       "      <td>38.0</td>\n",
       "      <td>1</td>\n",
       "      <td>0.0</td>\n",
       "      <td>PC 17599</td>\n",
       "      <td>31.0000</td>\n",
       "      <td>C85</td>\n",
       "      <td>C</td>\n",
       "      <td>Titanic</td>\n",
       "    </tr>\n",
       "    <tr>\n",
       "      <th>2</th>\n",
       "      <td>3</td>\n",
       "      <td>1</td>\n",
       "      <td>3.0</td>\n",
       "      <td>Heikkinen, Miss. Laina</td>\n",
       "      <td>female</td>\n",
       "      <td>26.0</td>\n",
       "      <td>0</td>\n",
       "      <td>0.0</td>\n",
       "      <td>STON/O2. 3101282</td>\n",
       "      <td>7.9250</td>\n",
       "      <td>G6</td>\n",
       "      <td>S</td>\n",
       "      <td>Titanic</td>\n",
       "    </tr>\n",
       "    <tr>\n",
       "      <th>3</th>\n",
       "      <td>4</td>\n",
       "      <td>1</td>\n",
       "      <td>1.0</td>\n",
       "      <td>Futrelle, Mrs. Jacques Heath (Lily May Peel)</td>\n",
       "      <td>female</td>\n",
       "      <td>35.0</td>\n",
       "      <td>1</td>\n",
       "      <td>0.0</td>\n",
       "      <td>113803</td>\n",
       "      <td>31.0000</td>\n",
       "      <td>C123</td>\n",
       "      <td>S</td>\n",
       "      <td>Titanic</td>\n",
       "    </tr>\n",
       "    <tr>\n",
       "      <th>4</th>\n",
       "      <td>5</td>\n",
       "      <td>0</td>\n",
       "      <td>3.0</td>\n",
       "      <td>Allen, Mr. William Henry</td>\n",
       "      <td>male</td>\n",
       "      <td>35.0</td>\n",
       "      <td>0</td>\n",
       "      <td>0.0</td>\n",
       "      <td>373450</td>\n",
       "      <td>8.0500</td>\n",
       "      <td>G6</td>\n",
       "      <td>S</td>\n",
       "      <td>Titanic</td>\n",
       "    </tr>\n",
       "    <tr>\n",
       "      <th>5</th>\n",
       "      <td>6</td>\n",
       "      <td>0</td>\n",
       "      <td>3.0</td>\n",
       "      <td>Moran, Mr. James</td>\n",
       "      <td>male</td>\n",
       "      <td>60.0</td>\n",
       "      <td>0</td>\n",
       "      <td>0.0</td>\n",
       "      <td>330877</td>\n",
       "      <td>8.4583</td>\n",
       "      <td>G6</td>\n",
       "      <td>Q</td>\n",
       "      <td>Titanic</td>\n",
       "    </tr>\n",
       "    <tr>\n",
       "      <th>6</th>\n",
       "      <td>7</td>\n",
       "      <td>0</td>\n",
       "      <td>1.0</td>\n",
       "      <td>McCarthy, Mr. Timothy J</td>\n",
       "      <td>male</td>\n",
       "      <td>54.0</td>\n",
       "      <td>0</td>\n",
       "      <td>0.0</td>\n",
       "      <td>17463</td>\n",
       "      <td>31.0000</td>\n",
       "      <td>E46</td>\n",
       "      <td>S</td>\n",
       "      <td>Titanic</td>\n",
       "    </tr>\n",
       "    <tr>\n",
       "      <th>7</th>\n",
       "      <td>8</td>\n",
       "      <td>0</td>\n",
       "      <td>3.0</td>\n",
       "      <td>Palsson, Master. Gosta Leonard</td>\n",
       "      <td>male</td>\n",
       "      <td>22.0</td>\n",
       "      <td>2</td>\n",
       "      <td>0.0</td>\n",
       "      <td>349909</td>\n",
       "      <td>21.0750</td>\n",
       "      <td>G6</td>\n",
       "      <td>S</td>\n",
       "      <td>Titanic</td>\n",
       "    </tr>\n",
       "    <tr>\n",
       "      <th>8</th>\n",
       "      <td>9</td>\n",
       "      <td>1</td>\n",
       "      <td>3.0</td>\n",
       "      <td>Johnson, Mrs. Oscar W (Elisabeth Vilhelmina Berg)</td>\n",
       "      <td>female</td>\n",
       "      <td>27.0</td>\n",
       "      <td>0</td>\n",
       "      <td>0.0</td>\n",
       "      <td>347742</td>\n",
       "      <td>11.1333</td>\n",
       "      <td>G6</td>\n",
       "      <td>S</td>\n",
       "      <td>Titanic</td>\n",
       "    </tr>\n",
       "    <tr>\n",
       "      <th>9</th>\n",
       "      <td>10</td>\n",
       "      <td>1</td>\n",
       "      <td>2.0</td>\n",
       "      <td>Nasser, Mrs. Nicholas (Adele Achem)</td>\n",
       "      <td>female</td>\n",
       "      <td>22.0</td>\n",
       "      <td>1</td>\n",
       "      <td>0.0</td>\n",
       "      <td>237736</td>\n",
       "      <td>30.0708</td>\n",
       "      <td>G6</td>\n",
       "      <td>C</td>\n",
       "      <td>Titanic</td>\n",
       "    </tr>\n",
       "  </tbody>\n",
       "</table>\n",
       "</div>"
      ],
      "text/plain": [
       "   PassengerId  Survived  Pclass  \\\n",
       "0            1         0     3.0   \n",
       "1            2         1     1.0   \n",
       "2            3         1     3.0   \n",
       "3            4         1     1.0   \n",
       "4            5         0     3.0   \n",
       "5            6         0     3.0   \n",
       "6            7         0     1.0   \n",
       "7            8         0     3.0   \n",
       "8            9         1     3.0   \n",
       "9           10         1     2.0   \n",
       "\n",
       "                                                Name     Sex   Age  SibSp  \\\n",
       "0                            Braund, Mr. Owen Harris    male  22.0      1   \n",
       "1  Cumings, Mrs. John Bradley (Florence Briggs Th...  female  38.0      1   \n",
       "2                             Heikkinen, Miss. Laina  female  26.0      0   \n",
       "3       Futrelle, Mrs. Jacques Heath (Lily May Peel)  female  35.0      1   \n",
       "4                           Allen, Mr. William Henry    male  35.0      0   \n",
       "5                                   Moran, Mr. James    male  60.0      0   \n",
       "6                            McCarthy, Mr. Timothy J    male  54.0      0   \n",
       "7                     Palsson, Master. Gosta Leonard    male  22.0      2   \n",
       "8  Johnson, Mrs. Oscar W (Elisabeth Vilhelmina Berg)  female  27.0      0   \n",
       "9                Nasser, Mrs. Nicholas (Adele Achem)  female  22.0      1   \n",
       "\n",
       "   Parch            Ticket     Fare Cabin Embarked     Ship  \n",
       "0    0.0         A/5 21171   7.8958    G6        S  Titanic  \n",
       "1    0.0          PC 17599  31.0000   C85        C  Titanic  \n",
       "2    0.0  STON/O2. 3101282   7.9250    G6        S  Titanic  \n",
       "3    0.0            113803  31.0000  C123        S  Titanic  \n",
       "4    0.0            373450   8.0500    G6        S  Titanic  \n",
       "5    0.0            330877   8.4583    G6        Q  Titanic  \n",
       "6    0.0             17463  31.0000   E46        S  Titanic  \n",
       "7    0.0            349909  21.0750    G6        S  Titanic  \n",
       "8    0.0            347742  11.1333    G6        S  Titanic  \n",
       "9    0.0            237736  30.0708    G6        C  Titanic  "
      ]
     },
     "execution_count": 51,
     "metadata": {},
     "output_type": "execute_result"
    }
   ],
   "source": [
    "df2.head(10)"
   ]
  },
  {
   "cell_type": "code",
   "execution_count": 52,
   "id": "ba74555e",
   "metadata": {
    "scrolled": true
   },
   "outputs": [
    {
     "data": {
      "text/html": [
       "<div>\n",
       "<style scoped>\n",
       "    .dataframe tbody tr th:only-of-type {\n",
       "        vertical-align: middle;\n",
       "    }\n",
       "\n",
       "    .dataframe tbody tr th {\n",
       "        vertical-align: top;\n",
       "    }\n",
       "\n",
       "    .dataframe thead th {\n",
       "        text-align: right;\n",
       "    }\n",
       "</style>\n",
       "<table border=\"1\" class=\"dataframe\">\n",
       "  <thead>\n",
       "    <tr style=\"text-align: right;\">\n",
       "      <th></th>\n",
       "      <th>PassengerId</th>\n",
       "      <th>Survived</th>\n",
       "      <th>Pclass</th>\n",
       "      <th>Age</th>\n",
       "      <th>SibSp</th>\n",
       "      <th>Parch</th>\n",
       "      <th>Fare</th>\n",
       "    </tr>\n",
       "  </thead>\n",
       "  <tbody>\n",
       "    <tr>\n",
       "      <th>count</th>\n",
       "      <td>891.000000</td>\n",
       "      <td>891.000000</td>\n",
       "      <td>891.000000</td>\n",
       "      <td>891.000000</td>\n",
       "      <td>891.000000</td>\n",
       "      <td>891.0</td>\n",
       "      <td>891.000000</td>\n",
       "    </tr>\n",
       "    <tr>\n",
       "      <th>mean</th>\n",
       "      <td>447.254770</td>\n",
       "      <td>0.383838</td>\n",
       "      <td>2.308642</td>\n",
       "      <td>38.164983</td>\n",
       "      <td>0.404040</td>\n",
       "      <td>0.0</td>\n",
       "      <td>18.023906</td>\n",
       "    </tr>\n",
       "    <tr>\n",
       "      <th>std</th>\n",
       "      <td>258.715268</td>\n",
       "      <td>0.486592</td>\n",
       "      <td>0.836071</td>\n",
       "      <td>15.290253</td>\n",
       "      <td>0.640001</td>\n",
       "      <td>0.0</td>\n",
       "      <td>9.807991</td>\n",
       "    </tr>\n",
       "    <tr>\n",
       "      <th>min</th>\n",
       "      <td>-12.000000</td>\n",
       "      <td>0.000000</td>\n",
       "      <td>1.000000</td>\n",
       "      <td>22.000000</td>\n",
       "      <td>0.000000</td>\n",
       "      <td>0.0</td>\n",
       "      <td>7.895800</td>\n",
       "    </tr>\n",
       "    <tr>\n",
       "      <th>25%</th>\n",
       "      <td>224.500000</td>\n",
       "      <td>0.000000</td>\n",
       "      <td>2.000000</td>\n",
       "      <td>22.000000</td>\n",
       "      <td>0.000000</td>\n",
       "      <td>0.0</td>\n",
       "      <td>7.895800</td>\n",
       "    </tr>\n",
       "    <tr>\n",
       "      <th>50%</th>\n",
       "      <td>446.000000</td>\n",
       "      <td>0.000000</td>\n",
       "      <td>3.000000</td>\n",
       "      <td>33.000000</td>\n",
       "      <td>0.000000</td>\n",
       "      <td>0.0</td>\n",
       "      <td>14.454200</td>\n",
       "    </tr>\n",
       "    <tr>\n",
       "      <th>75%</th>\n",
       "      <td>669.500000</td>\n",
       "      <td>1.000000</td>\n",
       "      <td>3.000000</td>\n",
       "      <td>60.000000</td>\n",
       "      <td>1.000000</td>\n",
       "      <td>0.0</td>\n",
       "      <td>31.000000</td>\n",
       "    </tr>\n",
       "    <tr>\n",
       "      <th>max</th>\n",
       "      <td>1143.000000</td>\n",
       "      <td>1.000000</td>\n",
       "      <td>3.000000</td>\n",
       "      <td>60.000000</td>\n",
       "      <td>2.000000</td>\n",
       "      <td>0.0</td>\n",
       "      <td>31.000000</td>\n",
       "    </tr>\n",
       "  </tbody>\n",
       "</table>\n",
       "</div>"
      ],
      "text/plain": [
       "       PassengerId    Survived      Pclass         Age       SibSp  Parch  \\\n",
       "count   891.000000  891.000000  891.000000  891.000000  891.000000  891.0   \n",
       "mean    447.254770    0.383838    2.308642   38.164983    0.404040    0.0   \n",
       "std     258.715268    0.486592    0.836071   15.290253    0.640001    0.0   \n",
       "min     -12.000000    0.000000    1.000000   22.000000    0.000000    0.0   \n",
       "25%     224.500000    0.000000    2.000000   22.000000    0.000000    0.0   \n",
       "50%     446.000000    0.000000    3.000000   33.000000    0.000000    0.0   \n",
       "75%     669.500000    1.000000    3.000000   60.000000    1.000000    0.0   \n",
       "max    1143.000000    1.000000    3.000000   60.000000    2.000000    0.0   \n",
       "\n",
       "             Fare  \n",
       "count  891.000000  \n",
       "mean    18.023906  \n",
       "std      9.807991  \n",
       "min      7.895800  \n",
       "25%      7.895800  \n",
       "50%     14.454200  \n",
       "75%     31.000000  \n",
       "max     31.000000  "
      ]
     },
     "execution_count": 52,
     "metadata": {},
     "output_type": "execute_result"
    }
   ],
   "source": [
    "df2.describe()"
   ]
  },
  {
   "cell_type": "markdown",
   "id": "e45b0075",
   "metadata": {},
   "source": [
    "Data is already cleaning. Now, we check the outlier detection"
   ]
  },
  {
   "cell_type": "markdown",
   "id": "7d129eef",
   "metadata": {},
   "source": [
    "##### Saving New DataFrame"
   ]
  },
  {
   "cell_type": "code",
   "execution_count": 53,
   "id": "01480ca9",
   "metadata": {},
   "outputs": [],
   "source": [
    "# saving the dataframe\n",
    "df2.to_csv('cleaning.csv')"
   ]
  },
  {
   "cell_type": "code",
   "execution_count": null,
   "id": "459455c0",
   "metadata": {},
   "outputs": [],
   "source": []
  }
 ],
 "metadata": {
  "kernelspec": {
   "display_name": "Python 3 (ipykernel)",
   "language": "python",
   "name": "python3"
  },
  "language_info": {
   "codemirror_mode": {
    "name": "ipython",
    "version": 3
   },
   "file_extension": ".py",
   "mimetype": "text/x-python",
   "name": "python",
   "nbconvert_exporter": "python",
   "pygments_lexer": "ipython3",
   "version": "3.9.13"
  }
 },
 "nbformat": 4,
 "nbformat_minor": 5
}
